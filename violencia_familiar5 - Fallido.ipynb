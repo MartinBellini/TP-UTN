{
 "cells": [
  {
   "cell_type": "code",
   "execution_count": 1,
   "metadata": {},
   "outputs": [],
   "source": [
    "pwd"
   ]
  },
  {
   "cell_type": "code",
   "execution_count": 2,
   "metadata": {},
   "outputs": [],
   "source": [
    "import pandas as pd\n",
    "import matplotlib.pyplot as plt\n",
    "%matplotlib inline\n",
    "import seaborn as sns\n",
    "from IPython.display import Image"
   ]
  },
  {
   "cell_type": "markdown",
   "metadata": {},
   "source": [
    "## Importamos data sets por año"
   ]
  },
  {
   "cell_type": "markdown",
   "metadata": {},
   "source": [
    "2017"
   ]
  },
  {
   "cell_type": "code",
   "execution_count": 3,
   "metadata": {},
   "outputs": [
    {
     "data": {
      "text/plain": [
       "(9888, 16)"
      ]
     },
     "execution_count": 3,
     "metadata": {},
     "output_type": "execute_result"
    }
   ],
   "source": [
    "#lavf = llamados atendidos violencia familiar\n",
    "\n",
    "\n",
    "lavf17 = pd.read_csv(r'C:\\Users\\60069615\\Desktop\\Python\\DATASET TP\\CSV\\llamados-atendidos-violencia-familiar-2017.csv')\n",
    "lavf17.shape"
   ]
  },
  {
   "cell_type": "code",
   "execution_count": 4,
   "metadata": {},
   "outputs": [
    {
     "data": {
      "text/plain": [
       "Index(['caso_id', 'llamante_quien_llama', 'llamante_genero',\n",
       "       'llamante_vinculo_ninios_presentes', 'violencia_tipo', 'victima_edad',\n",
       "       'victima_rango_etario', 'victima_genero', 'victima_cantidad',\n",
       "       'agresor_cantidad', 'agresor_genero', 'agresor_relacion_victima',\n",
       "       'llamado_derivacion', 'llamado_fecha_hora', 'llamado_provincia',\n",
       "       'llamado_provincia_indec_id'],\n",
       "      dtype='object')"
      ]
     },
     "execution_count": 4,
     "metadata": {},
     "output_type": "execute_result"
    }
   ],
   "source": [
    "lavf17.columns"
   ]
  },
  {
   "cell_type": "code",
   "execution_count": 5,
   "metadata": {},
   "outputs": [
    {
     "data": {
      "text/html": [
       "<div>\n",
       "<style scoped>\n",
       "    .dataframe tbody tr th:only-of-type {\n",
       "        vertical-align: middle;\n",
       "    }\n",
       "\n",
       "    .dataframe tbody tr th {\n",
       "        vertical-align: top;\n",
       "    }\n",
       "\n",
       "    .dataframe thead th {\n",
       "        text-align: right;\n",
       "    }\n",
       "</style>\n",
       "<table border=\"1\" class=\"dataframe\">\n",
       "  <thead>\n",
       "    <tr style=\"text-align: right;\">\n",
       "      <th></th>\n",
       "      <th>caso_id</th>\n",
       "      <th>llamante_descripcion</th>\n",
       "      <th>llamante_genero</th>\n",
       "      <th>llamante_vinculo_ninios_presentes</th>\n",
       "      <th>violencia_tipo</th>\n",
       "      <th>victima_edad</th>\n",
       "      <th>victima_rango_etario</th>\n",
       "      <th>victima_genero</th>\n",
       "      <th>victima_cantidad</th>\n",
       "      <th>agresor_cantidad</th>\n",
       "      <th>agresor_genero</th>\n",
       "      <th>agresor_relacion_victima</th>\n",
       "      <th>llamado_derivacion</th>\n",
       "      <th>llamado_fecha_hora</th>\n",
       "      <th>llamado_provincia</th>\n",
       "      <th>llamado_provincia_indec_id</th>\n",
       "    </tr>\n",
       "  </thead>\n",
       "  <tbody>\n",
       "    <tr>\n",
       "      <th>0</th>\n",
       "      <td>344552</td>\n",
       "      <td>Comisaría</td>\n",
       "      <td>Masculino</td>\n",
       "      <td>Otro no familiar</td>\n",
       "      <td>Física</td>\n",
       "      <td>27</td>\n",
       "      <td>18 a 29 años</td>\n",
       "      <td>Femenino</td>\n",
       "      <td>3</td>\n",
       "      <td>1.0</td>\n",
       "      <td>Masculino</td>\n",
       "      <td>Espos@/compañer@ actual de la víctima</td>\n",
       "      <td>La víctima no aceptó la intervención de Equipo...</td>\n",
       "      <td>2017-01-01 01:37:54</td>\n",
       "      <td>Ciudad Autónoma de Buenos Aires</td>\n",
       "      <td>2</td>\n",
       "    </tr>\n",
       "    <tr>\n",
       "      <th>1</th>\n",
       "      <td>344553</td>\n",
       "      <td>Comisaría</td>\n",
       "      <td>Femenino</td>\n",
       "      <td>Sin datos</td>\n",
       "      <td>Física</td>\n",
       "      <td>Sin Datos</td>\n",
       "      <td>Sin Datos</td>\n",
       "      <td>Femenino</td>\n",
       "      <td>2</td>\n",
       "      <td>1.0</td>\n",
       "      <td>Masculino</td>\n",
       "      <td>Herman@ de la victima</td>\n",
       "      <td>Llamante solicitó información y/o orientación</td>\n",
       "      <td>2017-01-01 06:42:25</td>\n",
       "      <td>Ciudad Autónoma de Buenos Aires</td>\n",
       "      <td>2</td>\n",
       "    </tr>\n",
       "  </tbody>\n",
       "</table>\n",
       "</div>"
      ],
      "text/plain": [
       "   caso_id llamante_descripcion llamante_genero  \\\n",
       "0   344552            Comisaría       Masculino   \n",
       "1   344553            Comisaría        Femenino   \n",
       "\n",
       "  llamante_vinculo_ninios_presentes violencia_tipo victima_edad  \\\n",
       "0                  Otro no familiar         Física           27   \n",
       "1                         Sin datos         Física    Sin Datos   \n",
       "\n",
       "  victima_rango_etario victima_genero victima_cantidad  agresor_cantidad  \\\n",
       "0         18 a 29 años       Femenino                3               1.0   \n",
       "1            Sin Datos       Femenino                2               1.0   \n",
       "\n",
       "  agresor_genero               agresor_relacion_victima  \\\n",
       "0      Masculino  Espos@/compañer@ actual de la víctima   \n",
       "1      Masculino                  Herman@ de la victima   \n",
       "\n",
       "                                  llamado_derivacion   llamado_fecha_hora  \\\n",
       "0  La víctima no aceptó la intervención de Equipo...  2017-01-01 01:37:54   \n",
       "1      Llamante solicitó información y/o orientación  2017-01-01 06:42:25   \n",
       "\n",
       "                 llamado_provincia  llamado_provincia_indec_id  \n",
       "0  Ciudad Autónoma de Buenos Aires                           2  \n",
       "1  Ciudad Autónoma de Buenos Aires                           2  "
      ]
     },
     "execution_count": 5,
     "metadata": {},
     "output_type": "execute_result"
    }
   ],
   "source": [
    "#modificamos el segundo indice para que coincida con los demas data sets.\n",
    "\n",
    "lavf17.rename(columns = {'llamante_quien_llama':'llamante_descripcion'}, inplace = True)\n",
    " \n",
    "lavf17.head(2)"
   ]
  },
  {
   "cell_type": "markdown",
   "metadata": {},
   "source": [
    "2018"
   ]
  },
  {
   "cell_type": "code",
   "execution_count": 6,
   "metadata": {},
   "outputs": [
    {
     "data": {
      "text/plain": [
       "(734, 16)"
      ]
     },
     "execution_count": 6,
     "metadata": {},
     "output_type": "execute_result"
    }
   ],
   "source": [
    "#Importamos data set 2018\n",
    "lavf1801 = pd.read_csv(r'C:\\Users\\60069615\\Desktop\\Python\\DATASET TP\\CSV\\llamados-atendidos-violencia-familiar-201801.csv')\n",
    "lavf1802 = pd.read_csv(r'C:\\Users\\60069615\\Desktop\\Python\\DATASET TP\\CSV\\llamados-atendidos-violencia-familiar-201802.csv')\n",
    "lavf1803 = pd.read_csv(r'C:\\Users\\60069615\\Desktop\\Python\\DATASET TP\\CSV\\llamados-atendidos-violencia-familiar-201803.csv')\n",
    "lavf1804 = pd.read_csv(r'C:\\Users\\60069615\\Desktop\\Python\\DATASET TP\\CSV\\llamados-atendidos-violencia-familiar-201804.csv')\n",
    "lavf1805 = pd.read_csv(r'C:\\Users\\60069615\\Desktop\\Python\\DATASET TP\\CSV\\llamados-atendidos-violencia-familiar-201805.csv')\n",
    "lavf1806 = pd.read_csv(r'C:\\Users\\60069615\\Desktop\\Python\\DATASET TP\\CSV\\llamados-atendidos-violencia-familiar-201806.csv')\n",
    "lavf1807 = pd.read_csv(r'C:\\Users\\60069615\\Desktop\\Python\\DATASET TP\\CSV\\llamados-atendidos-violencia-familiar-201807.csv')\n",
    "lavf1808 = pd.read_csv(r'C:\\Users\\60069615\\Desktop\\Python\\DATASET TP\\CSV\\llamados-atendidos-violencia-familiar-201808.csv')\n",
    "lavf1809 = pd.read_csv(r'C:\\Users\\60069615\\Desktop\\Python\\DATASET TP\\CSV\\llamados-atendidos-violencia-familiar-201809.csv')\n",
    "lavf1810 = pd.read_csv(r'C:\\Users\\60069615\\Desktop\\Python\\DATASET TP\\CSV\\llamados-atendidos-violencia-familiar-201810.csv')\n",
    "lavf1811 = pd.read_csv(r'C:\\Users\\60069615\\Desktop\\Python\\DATASET TP\\CSV\\llamados-atendidos-violencia-familiar-201811.csv')\n",
    "lavf1812 = pd.read_csv(r'C:\\Users\\60069615\\Desktop\\Python\\DATASET TP\\CSV\\llamados-atendidos-violencia-familiar-201812.csv')\n",
    "\n",
    "lavf1801.shape"
   ]
  },
  {
   "cell_type": "code",
   "execution_count": 7,
   "metadata": {},
   "outputs": [
    {
     "data": {
      "text/plain": [
       "Index(['caso_id', 'llamante_descripcion', 'llamante_genero',\n",
       "       'llamante_vinculo_ninios_presentes', 'violencia_tipo', 'victima_edad',\n",
       "       'victima_rango_etario', 'victima_genero', 'victima_cantidad',\n",
       "       'agresor_cantidad', 'agresor_genero', 'agresor_relacion_victima',\n",
       "       'llamado_derivacion', 'llamado_fecha_hora', 'llamado_provincia',\n",
       "       'llamado_provincia_indec_id'],\n",
       "      dtype='object')"
      ]
     },
     "execution_count": 7,
     "metadata": {},
     "output_type": "execute_result"
    }
   ],
   "source": [
    "lavf1812.columns"
   ]
  },
  {
   "cell_type": "code",
   "execution_count": 8,
   "metadata": {},
   "outputs": [
    {
     "data": {
      "text/plain": [
       "(1303, 16)"
      ]
     },
     "execution_count": 8,
     "metadata": {},
     "output_type": "execute_result"
    }
   ],
   "source": [
    "#Importamos data set 2019\n",
    "lavf1901 = pd.read_csv(r'C:\\Users\\60069615\\Desktop\\Python\\DATASET TP\\CSV\\llamados-atendidos-violencia-familiar-2019-trimestre-1.csv')\n",
    "lavf1902 = pd.read_csv(r'C:\\Users\\60069615\\Desktop\\Python\\DATASET TP\\CSV\\llamados-atendidos-violencia-familiar-2019-trimestre-2.csv')\n",
    "lavf1903 = pd.read_csv(r'C:\\Users\\60069615\\Desktop\\Python\\DATASET TP\\CSV\\llamados-atendidos-violencia-familiar-2019-trimestre-3.csv')\n",
    "\n",
    "lavf1903.shape"
   ]
  },
  {
   "cell_type": "code",
   "execution_count": 9,
   "metadata": {},
   "outputs": [
    {
     "data": {
      "text/plain": [
       "Index(['caso_id', 'llamante_descripcion', 'llamante_genero',\n",
       "       'llamante_vinculo_ninios_presentes', 'violencia_tipo', 'victima_edad',\n",
       "       'victima_rango_etario', 'victima_genero', 'victima_cantidad',\n",
       "       'agresor_cantidad', 'agresor_genero', 'agresor_relacion_victima',\n",
       "       'llamado_derivacion', 'llamado_fecha_hora', 'llamado_provincia',\n",
       "       'llamado_provincia_id'],\n",
       "      dtype='object')"
      ]
     },
     "execution_count": 9,
     "metadata": {},
     "output_type": "execute_result"
    }
   ],
   "source": [
    "lavf1903.columns"
   ]
  },
  {
   "cell_type": "code",
   "execution_count": 10,
   "metadata": {},
   "outputs": [],
   "source": [
    "## Verificamos que la segunda columna del data set 2017, es el mismo atributo pero con diferente nombre"
   ]
  },
  {
   "cell_type": "code",
   "execution_count": 11,
   "metadata": {},
   "outputs": [
    {
     "data": {
      "text/plain": [
       "(8054, 16)"
      ]
     },
     "execution_count": 11,
     "metadata": {},
     "output_type": "execute_result"
    }
   ],
   "source": [
    "#Concatenamos data sets 2018\n",
    "\n",
    "lavf18 = pd.concat([lavf1801,lavf1802,lavf1803,lavf1804,lavf1805,lavf1806,lavf1807,lavf1808,lavf1809,lavf1810,lavf1811], axis = 0,  join = \"outer\" , ignore_index = False) #inner or outer join?\n",
    "\n",
    "#Falló Diciembre por que tiene otro nombre en columna ... llamante_quien_llama =! llamante_descripcion\n",
    "#Asignamos llamante_descripcion\n",
    "\n",
    "  ##### ==> 1lavf18.rename(columns = {'llamante_quien_llama':'llamante_descripcion'})\n",
    "\n",
    "lavf18.columns = ['caso_id', 'llamante_descripcion', 'llamante_genero',\n",
    "        'llamante_vinculo_ninios_presentes', 'violencia_tipo', 'victima_edad',\n",
    "       'victima_rango_etario', 'victima_genero', 'victima_cantidad',\n",
    "      'agresor_cantidad', 'agresor_genero', 'agresor_relacion_victima',\n",
    "     'llamado_derivacion', 'llamado_fecha_hora', 'llamado_provincia',\n",
    "    'llamado_provincia_indec_id']\n",
    "\n",
    "#Agregamos Diciembre\n",
    "\n",
    "lavf18 = pd.concat([lavf18,lavf1812], axis = 0,  join = \"outer\" , ignore_index = False)\n",
    "\n",
    "lavf18.shape\n"
   ]
  },
  {
   "cell_type": "code",
   "execution_count": 12,
   "metadata": {},
   "outputs": [
    {
     "data": {
      "text/html": [
       "<div>\n",
       "<style scoped>\n",
       "    .dataframe tbody tr th:only-of-type {\n",
       "        vertical-align: middle;\n",
       "    }\n",
       "\n",
       "    .dataframe tbody tr th {\n",
       "        vertical-align: top;\n",
       "    }\n",
       "\n",
       "    .dataframe thead th {\n",
       "        text-align: right;\n",
       "    }\n",
       "</style>\n",
       "<table border=\"1\" class=\"dataframe\">\n",
       "  <thead>\n",
       "    <tr style=\"text-align: right;\">\n",
       "      <th></th>\n",
       "      <th>caso_id</th>\n",
       "      <th>llamante_descripcion</th>\n",
       "      <th>llamante_genero</th>\n",
       "      <th>llamante_vinculo_ninios_presentes</th>\n",
       "      <th>violencia_tipo</th>\n",
       "      <th>victima_edad</th>\n",
       "      <th>victima_rango_etario</th>\n",
       "      <th>victima_genero</th>\n",
       "      <th>victima_cantidad</th>\n",
       "      <th>agresor_cantidad</th>\n",
       "      <th>agresor_genero</th>\n",
       "      <th>agresor_relacion_victima</th>\n",
       "      <th>llamado_derivacion</th>\n",
       "      <th>llamado_fecha_hora</th>\n",
       "      <th>llamado_provincia</th>\n",
       "      <th>llamado_provincia_indec_id</th>\n",
       "    </tr>\n",
       "  </thead>\n",
       "  <tbody>\n",
       "    <tr>\n",
       "      <th>0</th>\n",
       "      <td>361342</td>\n",
       "      <td>Familiar de la víctima</td>\n",
       "      <td>Femenino</td>\n",
       "      <td>No hay niñas/os</td>\n",
       "      <td>Psicológica</td>\n",
       "      <td>Sin Datos</td>\n",
       "      <td>Sin Datos</td>\n",
       "      <td>Femenino</td>\n",
       "      <td>1</td>\n",
       "      <td>1</td>\n",
       "      <td>Masculino</td>\n",
       "      <td>Espos@/compañer@ actual de la víctima</td>\n",
       "      <td>Intervención Equipos Móviles a donde se encont...</td>\n",
       "      <td>2018-01-01 01:44:31</td>\n",
       "      <td>Ciudad Autónoma de Buenos Aires</td>\n",
       "      <td>2</td>\n",
       "    </tr>\n",
       "    <tr>\n",
       "      <th>1</th>\n",
       "      <td>361343</td>\n",
       "      <td>Víctima</td>\n",
       "      <td>Femenino</td>\n",
       "      <td>No hay niñas/os</td>\n",
       "      <td>Psicológica</td>\n",
       "      <td>Sin Datos</td>\n",
       "      <td>Sin Datos</td>\n",
       "      <td>Femenino</td>\n",
       "      <td>1</td>\n",
       "      <td>1</td>\n",
       "      <td>Masculino</td>\n",
       "      <td>Hij@</td>\n",
       "      <td>No había móviles y/o Equipos para realizar la ...</td>\n",
       "      <td>2018-01-01 13:54:03</td>\n",
       "      <td>Ciudad Autónoma de Buenos Aires</td>\n",
       "      <td>2</td>\n",
       "    </tr>\n",
       "  </tbody>\n",
       "</table>\n",
       "</div>"
      ],
      "text/plain": [
       "   caso_id    llamante_descripcion llamante_genero  \\\n",
       "0   361342  Familiar de la víctima        Femenino   \n",
       "1   361343                 Víctima        Femenino   \n",
       "\n",
       "  llamante_vinculo_ninios_presentes violencia_tipo victima_edad  \\\n",
       "0                   No hay niñas/os    Psicológica    Sin Datos   \n",
       "1                   No hay niñas/os    Psicológica    Sin Datos   \n",
       "\n",
       "  victima_rango_etario victima_genero  victima_cantidad  agresor_cantidad  \\\n",
       "0            Sin Datos       Femenino                 1                 1   \n",
       "1            Sin Datos       Femenino                 1                 1   \n",
       "\n",
       "  agresor_genero               agresor_relacion_victima  \\\n",
       "0      Masculino  Espos@/compañer@ actual de la víctima   \n",
       "1      Masculino                                   Hij@   \n",
       "\n",
       "                                  llamado_derivacion   llamado_fecha_hora  \\\n",
       "0  Intervención Equipos Móviles a donde se encont...  2018-01-01 01:44:31   \n",
       "1  No había móviles y/o Equipos para realizar la ...  2018-01-01 13:54:03   \n",
       "\n",
       "                 llamado_provincia  llamado_provincia_indec_id  \n",
       "0  Ciudad Autónoma de Buenos Aires                           2  \n",
       "1  Ciudad Autónoma de Buenos Aires                           2  "
      ]
     },
     "execution_count": 12,
     "metadata": {},
     "output_type": "execute_result"
    }
   ],
   "source": [
    "lavf18.head(2)"
   ]
  },
  {
   "cell_type": "markdown",
   "metadata": {},
   "source": [
    "# 2019"
   ]
  },
  {
   "cell_type": "code",
   "execution_count": 13,
   "metadata": {},
   "outputs": [
    {
     "data": {
      "text/plain": [
       "array(['Ciudad Autónoma de Buenos Aires'], dtype=object)"
      ]
     },
     "execution_count": 13,
     "metadata": {},
     "output_type": "execute_result"
    }
   ],
   "source": [
    "#Concatenamos data sets 2019\n",
    "\n",
    "#La última columna tiene nombre distinto. llamado_provincia_indec_id =! llamado_provincia_id\n",
    "\n",
    "    #lavf1901 = \tllamado_provincia_indec_id\n",
    "    #lavf1901 = \tllamado_provincia_id\n",
    "    #lavf1901 = \tllamado_provincia_id\n",
    "    \n",
    "# Corroboramos la relación entre la columa \"llamado provincia\" con los llamado_provincia_indec_id y llamado_provincia_id\n",
    "\n",
    "lavf1903.llamado_provincia.unique()\n",
    "\n",
    "#Para los tres trimestres solo hay registros en CABA.\n"
   ]
  },
  {
   "cell_type": "code",
   "execution_count": 14,
   "metadata": {},
   "outputs": [
    {
     "data": {
      "text/plain": [
       "(5478, 16)"
      ]
     },
     "execution_count": 14,
     "metadata": {},
     "output_type": "execute_result"
    }
   ],
   "source": [
    "#cambiamos la columna a llamado_provincia_indec_id para que coincida con 2018 y 2017\n",
    "\n",
    "lavf19 = pd.concat([lavf1902,lavf1903], axis = 0,  join = \"outer\" , ignore_index = False)\n",
    "\n",
    "lavf19.columns = ['caso_id', 'llamante_descripcion', 'llamante_genero',\n",
    "        'llamante_vinculo_ninios_presentes', 'violencia_tipo', 'victima_edad',\n",
    "       'victima_rango_etario', 'victima_genero', 'victima_cantidad',\n",
    "      'agresor_cantidad', 'agresor_genero', 'agresor_relacion_victima',\n",
    "     'llamado_derivacion', 'llamado_fecha_hora', 'llamado_provincia',\n",
    "    'llamado_provincia_indec_id']\n",
    "\n",
    "lavf19 = pd.concat([lavf1901,lavf19], axis = 0,  join = \"outer\" , ignore_index = False)\n",
    "\n",
    "lavf19.shape\n"
   ]
  },
  {
   "cell_type": "code",
   "execution_count": 15,
   "metadata": {},
   "outputs": [
    {
     "data": {
      "text/html": [
       "<div>\n",
       "<style scoped>\n",
       "    .dataframe tbody tr th:only-of-type {\n",
       "        vertical-align: middle;\n",
       "    }\n",
       "\n",
       "    .dataframe tbody tr th {\n",
       "        vertical-align: top;\n",
       "    }\n",
       "\n",
       "    .dataframe thead th {\n",
       "        text-align: right;\n",
       "    }\n",
       "</style>\n",
       "<table border=\"1\" class=\"dataframe\">\n",
       "  <thead>\n",
       "    <tr style=\"text-align: right;\">\n",
       "      <th></th>\n",
       "      <th>caso_id</th>\n",
       "      <th>llamante_descripcion</th>\n",
       "      <th>llamante_genero</th>\n",
       "      <th>llamante_vinculo_ninios_presentes</th>\n",
       "      <th>violencia_tipo</th>\n",
       "      <th>victima_edad</th>\n",
       "      <th>victima_rango_etario</th>\n",
       "      <th>victima_genero</th>\n",
       "      <th>victima_cantidad</th>\n",
       "      <th>agresor_cantidad</th>\n",
       "      <th>agresor_genero</th>\n",
       "      <th>agresor_relacion_victima</th>\n",
       "      <th>llamado_derivacion</th>\n",
       "      <th>llamado_fecha_hora</th>\n",
       "      <th>llamado_provincia</th>\n",
       "      <th>llamado_provincia_indec_id</th>\n",
       "    </tr>\n",
       "  </thead>\n",
       "  <tbody>\n",
       "    <tr>\n",
       "      <th>0</th>\n",
       "      <td>414182</td>\n",
       "      <td>Víctima</td>\n",
       "      <td>Femenino</td>\n",
       "      <td>Padre</td>\n",
       "      <td>Física</td>\n",
       "      <td>22</td>\n",
       "      <td>18 a 29 años</td>\n",
       "      <td>Femenino</td>\n",
       "      <td>5</td>\n",
       "      <td>2</td>\n",
       "      <td>Masculino</td>\n",
       "      <td>Espos@/compañer@ actual</td>\n",
       "      <td>No había móviles y/o Equipos para realizar la ...</td>\n",
       "      <td>2019-03-31 22:49:00</td>\n",
       "      <td>Ciudad Autónoma de Buenos Aires</td>\n",
       "      <td>2</td>\n",
       "    </tr>\n",
       "    <tr>\n",
       "      <th>1</th>\n",
       "      <td>414181</td>\n",
       "      <td>Vecina/o de la víctima</td>\n",
       "      <td>Femenino</td>\n",
       "      <td>Otro no familiar</td>\n",
       "      <td>Psicológica</td>\n",
       "      <td>10</td>\n",
       "      <td>6 a 11 años</td>\n",
       "      <td>Masculino</td>\n",
       "      <td>1</td>\n",
       "      <td>1</td>\n",
       "      <td>Femenino</td>\n",
       "      <td>Madre</td>\n",
       "      <td>No intervino equipo móvil por tratarse de un c...</td>\n",
       "      <td>2019-03-31 21:37:12</td>\n",
       "      <td>Ciudad Autónoma de Buenos Aires</td>\n",
       "      <td>2</td>\n",
       "    </tr>\n",
       "  </tbody>\n",
       "</table>\n",
       "</div>"
      ],
      "text/plain": [
       "   caso_id    llamante_descripcion llamante_genero  \\\n",
       "0   414182                 Víctima        Femenino   \n",
       "1   414181  Vecina/o de la víctima        Femenino   \n",
       "\n",
       "  llamante_vinculo_ninios_presentes violencia_tipo victima_edad  \\\n",
       "0                             Padre         Física           22   \n",
       "1                  Otro no familiar    Psicológica           10   \n",
       "\n",
       "  victima_rango_etario victima_genero  victima_cantidad  agresor_cantidad  \\\n",
       "0         18 a 29 años       Femenino                 5                 2   \n",
       "1          6 a 11 años      Masculino                 1                 1   \n",
       "\n",
       "  agresor_genero agresor_relacion_victima  \\\n",
       "0      Masculino  Espos@/compañer@ actual   \n",
       "1       Femenino                    Madre   \n",
       "\n",
       "                                  llamado_derivacion   llamado_fecha_hora  \\\n",
       "0  No había móviles y/o Equipos para realizar la ...  2019-03-31 22:49:00   \n",
       "1  No intervino equipo móvil por tratarse de un c...  2019-03-31 21:37:12   \n",
       "\n",
       "                 llamado_provincia  llamado_provincia_indec_id  \n",
       "0  Ciudad Autónoma de Buenos Aires                           2  \n",
       "1  Ciudad Autónoma de Buenos Aires                           2  "
      ]
     },
     "execution_count": 15,
     "metadata": {},
     "output_type": "execute_result"
    }
   ],
   "source": [
    "lavf19.head(2)"
   ]
  },
  {
   "cell_type": "markdown",
   "metadata": {},
   "source": [
    "# concatenamos en 1 data set"
   ]
  },
  {
   "cell_type": "code",
   "execution_count": 16,
   "metadata": {},
   "outputs": [
    {
     "data": {
      "text/html": [
       "<div>\n",
       "<style scoped>\n",
       "    .dataframe tbody tr th:only-of-type {\n",
       "        vertical-align: middle;\n",
       "    }\n",
       "\n",
       "    .dataframe tbody tr th {\n",
       "        vertical-align: top;\n",
       "    }\n",
       "\n",
       "    .dataframe thead th {\n",
       "        text-align: right;\n",
       "    }\n",
       "</style>\n",
       "<table border=\"1\" class=\"dataframe\">\n",
       "  <thead>\n",
       "    <tr style=\"text-align: right;\">\n",
       "      <th></th>\n",
       "      <th>caso_id</th>\n",
       "      <th>llamante_descripcion</th>\n",
       "      <th>llamante_genero</th>\n",
       "      <th>llamante_vinculo_ninios_presentes</th>\n",
       "      <th>violencia_tipo</th>\n",
       "      <th>victima_edad</th>\n",
       "      <th>victima_rango_etario</th>\n",
       "      <th>victima_genero</th>\n",
       "      <th>victima_cantidad</th>\n",
       "      <th>agresor_cantidad</th>\n",
       "      <th>agresor_genero</th>\n",
       "      <th>agresor_relacion_victima</th>\n",
       "      <th>llamado_derivacion</th>\n",
       "      <th>llamado_fecha_hora</th>\n",
       "      <th>llamado_provincia</th>\n",
       "      <th>llamado_provincia_indec_id</th>\n",
       "    </tr>\n",
       "  </thead>\n",
       "  <tbody>\n",
       "    <tr>\n",
       "      <th>0</th>\n",
       "      <td>344552</td>\n",
       "      <td>Comisaría</td>\n",
       "      <td>Masculino</td>\n",
       "      <td>Otro no familiar</td>\n",
       "      <td>Física</td>\n",
       "      <td>27</td>\n",
       "      <td>18 a 29 años</td>\n",
       "      <td>Femenino</td>\n",
       "      <td>3</td>\n",
       "      <td>1.0</td>\n",
       "      <td>Masculino</td>\n",
       "      <td>Espos@/compañer@ actual de la víctima</td>\n",
       "      <td>La víctima no aceptó la intervención de Equipo...</td>\n",
       "      <td>2017-01-01 01:37:54</td>\n",
       "      <td>Ciudad Autónoma de Buenos Aires</td>\n",
       "      <td>2</td>\n",
       "    </tr>\n",
       "    <tr>\n",
       "      <th>1</th>\n",
       "      <td>344553</td>\n",
       "      <td>Comisaría</td>\n",
       "      <td>Femenino</td>\n",
       "      <td>Sin datos</td>\n",
       "      <td>Física</td>\n",
       "      <td>Sin Datos</td>\n",
       "      <td>Sin Datos</td>\n",
       "      <td>Femenino</td>\n",
       "      <td>2</td>\n",
       "      <td>1.0</td>\n",
       "      <td>Masculino</td>\n",
       "      <td>Herman@ de la victima</td>\n",
       "      <td>Llamante solicitó información y/o orientación</td>\n",
       "      <td>2017-01-01 06:42:25</td>\n",
       "      <td>Ciudad Autónoma de Buenos Aires</td>\n",
       "      <td>2</td>\n",
       "    </tr>\n",
       "  </tbody>\n",
       "</table>\n",
       "</div>"
      ],
      "text/plain": [
       "   caso_id llamante_descripcion llamante_genero  \\\n",
       "0   344552            Comisaría       Masculino   \n",
       "1   344553            Comisaría        Femenino   \n",
       "\n",
       "  llamante_vinculo_ninios_presentes violencia_tipo victima_edad  \\\n",
       "0                  Otro no familiar         Física           27   \n",
       "1                         Sin datos         Física    Sin Datos   \n",
       "\n",
       "  victima_rango_etario victima_genero victima_cantidad  agresor_cantidad  \\\n",
       "0         18 a 29 años       Femenino                3               1.0   \n",
       "1            Sin Datos       Femenino                2               1.0   \n",
       "\n",
       "  agresor_genero               agresor_relacion_victima  \\\n",
       "0      Masculino  Espos@/compañer@ actual de la víctima   \n",
       "1      Masculino                  Herman@ de la victima   \n",
       "\n",
       "                                  llamado_derivacion   llamado_fecha_hora  \\\n",
       "0  La víctima no aceptó la intervención de Equipo...  2017-01-01 01:37:54   \n",
       "1      Llamante solicitó información y/o orientación  2017-01-01 06:42:25   \n",
       "\n",
       "                 llamado_provincia  llamado_provincia_indec_id  \n",
       "0  Ciudad Autónoma de Buenos Aires                           2  \n",
       "1  Ciudad Autónoma de Buenos Aires                           2  "
      ]
     },
     "execution_count": 16,
     "metadata": {},
     "output_type": "execute_result"
    }
   ],
   "source": [
    "#Concatenamos los 3 años\n",
    "\n",
    "lavf_all = pd.concat([lavf17,lavf18,lavf19], axis = 0,  join = \"outer\" , ignore_index = False)\n",
    "lavf_all.head(2)"
   ]
  },
  {
   "cell_type": "code",
   "execution_count": 17,
   "metadata": {
    "scrolled": false
   },
   "outputs": [
    {
     "data": {
      "text/plain": [
       "(23420, 16)"
      ]
     },
     "execution_count": 17,
     "metadata": {},
     "output_type": "execute_result"
    }
   ],
   "source": [
    "#Verificamos cantidad de datos\n",
    "lavf_all.shape"
   ]
  },
  {
   "cell_type": "markdown",
   "metadata": {},
   "source": [
    "# Comenzamos la limpieza del dataset"
   ]
  },
  {
   "cell_type": "code",
   "execution_count": 18,
   "metadata": {},
   "outputs": [
    {
     "data": {
      "text/html": [
       "<div>\n",
       "<style scoped>\n",
       "    .dataframe tbody tr th:only-of-type {\n",
       "        vertical-align: middle;\n",
       "    }\n",
       "\n",
       "    .dataframe tbody tr th {\n",
       "        vertical-align: top;\n",
       "    }\n",
       "\n",
       "    .dataframe thead th {\n",
       "        text-align: right;\n",
       "    }\n",
       "</style>\n",
       "<table border=\"1\" class=\"dataframe\">\n",
       "  <thead>\n",
       "    <tr style=\"text-align: right;\">\n",
       "      <th></th>\n",
       "      <th>Total</th>\n",
       "      <th>Percent</th>\n",
       "    </tr>\n",
       "  </thead>\n",
       "  <tbody>\n",
       "    <tr>\n",
       "      <th>violencia_tipo</th>\n",
       "      <td>54</td>\n",
       "      <td>0.002306</td>\n",
       "    </tr>\n",
       "    <tr>\n",
       "      <th>agresor_cantidad</th>\n",
       "      <td>2</td>\n",
       "      <td>0.000085</td>\n",
       "    </tr>\n",
       "    <tr>\n",
       "      <th>victima_rango_etario</th>\n",
       "      <td>1</td>\n",
       "      <td>0.000043</td>\n",
       "    </tr>\n",
       "    <tr>\n",
       "      <th>llamado_provincia_indec_id</th>\n",
       "      <td>0</td>\n",
       "      <td>0.000000</td>\n",
       "    </tr>\n",
       "    <tr>\n",
       "      <th>llamado_provincia</th>\n",
       "      <td>0</td>\n",
       "      <td>0.000000</td>\n",
       "    </tr>\n",
       "    <tr>\n",
       "      <th>llamado_fecha_hora</th>\n",
       "      <td>0</td>\n",
       "      <td>0.000000</td>\n",
       "    </tr>\n",
       "    <tr>\n",
       "      <th>llamado_derivacion</th>\n",
       "      <td>0</td>\n",
       "      <td>0.000000</td>\n",
       "    </tr>\n",
       "    <tr>\n",
       "      <th>agresor_relacion_victima</th>\n",
       "      <td>0</td>\n",
       "      <td>0.000000</td>\n",
       "    </tr>\n",
       "    <tr>\n",
       "      <th>agresor_genero</th>\n",
       "      <td>0</td>\n",
       "      <td>0.000000</td>\n",
       "    </tr>\n",
       "    <tr>\n",
       "      <th>victima_cantidad</th>\n",
       "      <td>0</td>\n",
       "      <td>0.000000</td>\n",
       "    </tr>\n",
       "    <tr>\n",
       "      <th>victima_genero</th>\n",
       "      <td>0</td>\n",
       "      <td>0.000000</td>\n",
       "    </tr>\n",
       "    <tr>\n",
       "      <th>victima_edad</th>\n",
       "      <td>0</td>\n",
       "      <td>0.000000</td>\n",
       "    </tr>\n",
       "    <tr>\n",
       "      <th>llamante_vinculo_ninios_presentes</th>\n",
       "      <td>0</td>\n",
       "      <td>0.000000</td>\n",
       "    </tr>\n",
       "    <tr>\n",
       "      <th>llamante_genero</th>\n",
       "      <td>0</td>\n",
       "      <td>0.000000</td>\n",
       "    </tr>\n",
       "    <tr>\n",
       "      <th>llamante_descripcion</th>\n",
       "      <td>0</td>\n",
       "      <td>0.000000</td>\n",
       "    </tr>\n",
       "    <tr>\n",
       "      <th>caso_id</th>\n",
       "      <td>0</td>\n",
       "      <td>0.000000</td>\n",
       "    </tr>\n",
       "  </tbody>\n",
       "</table>\n",
       "</div>"
      ],
      "text/plain": [
       "                                   Total   Percent\n",
       "violencia_tipo                        54  0.002306\n",
       "agresor_cantidad                       2  0.000085\n",
       "victima_rango_etario                   1  0.000043\n",
       "llamado_provincia_indec_id             0  0.000000\n",
       "llamado_provincia                      0  0.000000\n",
       "llamado_fecha_hora                     0  0.000000\n",
       "llamado_derivacion                     0  0.000000\n",
       "agresor_relacion_victima               0  0.000000\n",
       "agresor_genero                         0  0.000000\n",
       "victima_cantidad                       0  0.000000\n",
       "victima_genero                         0  0.000000\n",
       "victima_edad                           0  0.000000\n",
       "llamante_vinculo_ninios_presentes      0  0.000000\n",
       "llamante_genero                        0  0.000000\n",
       "llamante_descripcion                   0  0.000000\n",
       "caso_id                                0  0.000000"
      ]
     },
     "execution_count": 18,
     "metadata": {},
     "output_type": "execute_result"
    }
   ],
   "source": [
    "#Verificamos nulos\n",
    "\n",
    "total = lavf_all.isnull().sum().sort_values(ascending=False)\n",
    "percent = (lavf_all.isnull().sum()/lavf_all.isnull().count()).sort_values(ascending=False)\n",
    "missing_data = pd.concat([total, percent], axis=1, keys=['Total', 'Percent'])\n",
    "missing_data.head(30)"
   ]
  },
  {
   "cell_type": "code",
   "execution_count": 19,
   "metadata": {},
   "outputs": [
    {
     "data": {
      "text/plain": [
       "0"
      ]
     },
     "execution_count": 19,
     "metadata": {},
     "output_type": "execute_result"
    }
   ],
   "source": [
    "#Quitamos los registros Null/NaN\n",
    "\n",
    "lavf_all = lavf_all.drop(lavf_all.loc[lavf_all['violencia_tipo'].isnull()].index)\n",
    "lavf_all = lavf_all.drop(lavf_all.loc[lavf_all['agresor_cantidad'].isnull()].index)\n",
    "lavf_all = lavf_all.drop(lavf_all.loc[lavf_all['victima_rango_etario'].isnull()].index)\n",
    "\n",
    "#Verificamos\n",
    "\n",
    "lavf_all.isnull().sum().max()"
   ]
  },
  {
   "cell_type": "markdown",
   "metadata": {},
   "source": [
    "# revisamos el contenido de cada campo"
   ]
  },
  {
   "cell_type": "code",
   "execution_count": 20,
   "metadata": {},
   "outputs": [],
   "source": [
    "LG1 = lavf_all['llamante_genero'].value_counts()\n",
    "LG2 = ((lavf_all['llamante_genero'].value_counts()/lavf_all.shape[0])*100)\n",
    "LG = pd.concat([LG1, LG2], axis=1, keys=['Quantity', 'Percent'])\n",
    "VT1 = lavf_all['violencia_tipo'].value_counts()\n",
    "VT2 = ((lavf_all['violencia_tipo'].value_counts()/lavf_all.shape[0])*100)\n",
    "VT = pd.concat([VT1, VT2], axis=1, keys=['Quantity', 'Percent'])\n",
    "AC1 =lavf_all['agresor_cantidad'].value_counts()\n",
    "AC2 = ((lavf_all['agresor_cantidad'].value_counts()/lavf_all.shape[0])*100)\n",
    "AC = pd.concat([AC1, AC2], axis=1, keys=['Quantity', 'Percent'])\n",
    "VRE1 = lavf_all['victima_rango_etario'].value_counts()\n",
    "VRE2 = ((lavf_all['victima_rango_etario'].value_counts()/lavf_all.shape[0])*100)\n",
    "VRE = pd.concat([VRE1, VRE2], axis=1, keys=['Quantity', 'Percent'])\n",
    "LPII1 = lavf_all['llamado_provincia_indec_id'].value_counts()\n",
    "LPII2 = ((lavf_all['llamado_provincia_indec_id'].value_counts()/lavf_all.shape[0])*100)\n",
    "LPII = pd.concat([LPII1, LPII2], axis=1, keys=['Quantity', 'Percent'])\n",
    "LP1 = lavf_all['llamado_provincia'].value_counts()\n",
    "LP2 = ((lavf_all['llamado_provincia'].value_counts()/lavf_all.shape[0])*100)\n",
    "LP = pd.concat([LP1, LP2], axis=1, keys=['Quantity', 'Percent'])\n",
    "LD1 = lavf_all['llamado_derivacion'].value_counts()\n",
    "LD2 = ((lavf_all['llamado_derivacion'].value_counts()/lavf_all.shape[0])*100)\n",
    "LD = pd.concat([LD1, LD2], axis=1, keys=['Quantity', 'Percent'])\n",
    "ARV1 = lavf_all['agresor_relacion_victima'].value_counts()\n",
    "ARV2 = ((lavf_all['agresor_relacion_victima'].value_counts()/lavf_all.shape[0])*100)\n",
    "ARV = pd.concat([ARV1, ARV2], axis=1, keys=['Quantity', 'Percent'])\n",
    "AG1 = lavf_all['agresor_genero'].value_counts()\n",
    "AG2 = ((lavf_all['agresor_genero'].value_counts()/lavf_all.shape[0])*100)\n",
    "AG = pd.concat([AG1, AG2], axis=1, keys=['Quantity', 'Percent'])\n",
    "VC1 = lavf_all['victima_cantidad'].value_counts()\n",
    "VC2 = ((lavf_all['victima_cantidad'].value_counts()/lavf_all.shape[0])*100)\n",
    "VC = pd.concat([VC1, VC2], axis=1, keys=['Quantity', 'Percent'])\n",
    "VG1 = lavf_all['victima_genero'].value_counts()\n",
    "VG2 = ((lavf_all['victima_genero'].value_counts()/lavf_all.shape[0])*100)\n",
    "VG = pd.concat([VG1, VG2], axis=1, keys=['Quantity', 'Percent'])\n",
    "VE1 = lavf_all['victima_edad'].value_counts()\n",
    "VE2 = ((lavf_all['victima_edad'].value_counts()/lavf_all.shape[0])*100)\n",
    "VE = pd.concat([VE1, VE2], axis=1, keys=['Quantity', 'Percent'])\n",
    "LVNP1 = lavf_all['llamante_vinculo_ninios_presentes'].value_counts()\n",
    "LVNP2 = ((lavf_all['llamante_vinculo_ninios_presentes'].value_counts()/lavf_all.shape[0])*100)\n",
    "LVNP = pd.concat([LVNP1, LVNP2], axis=1, keys=['Quantity', 'Percent'])\n",
    "LDE1 = lavf_all['llamante_descripcion'].value_counts()\n",
    "LDE2 = ((lavf_all['llamante_descripcion'].value_counts()/lavf_all.shape[0])*100)\n",
    "LDE = pd.concat([LDE1, LDE2], axis=1, keys=['Quantity', 'Percent'])"
   ]
  },
  {
   "cell_type": "code",
   "execution_count": 21,
   "metadata": {
    "scrolled": true
   },
   "outputs": [
    {
     "name": "stdout",
     "output_type": "stream",
     "text": [
      "LLAMANTE GENERO:\n",
      "             Quantity    Percent\n",
      "Femenino        14382  63.295485\n",
      "Masculino        5834  25.675557\n",
      "NS/NC            2495  10.980547\n",
      "Transgénero        10   0.044010\n",
      "                    1   0.004401\n",
      "\n",
      "VIOLENCIA TIPO:\n",
      "                                     Quantity    Percent\n",
      "Física                                  12827  56.451897\n",
      "Psicológica                              5175  22.775284\n",
      "Sin datos                                1707   7.512543\n",
      "No es un caso de Violencia Familiar      1223   5.382449\n",
      "Otras                                     635   2.794648\n",
      "Económica y física                        308   1.355514\n",
      "No es un caso de Vio                      218   0.959423\n",
      "Sexual                                    208   0.915412\n",
      "No es un caso de violencia Familiar       180   0.792184\n",
      "Económica                                 158   0.695361\n",
      "Física y sexual                            50   0.220051\n",
      "Económica y Física                         12   0.052812\n",
      "Física y Sexual                            10   0.044010\n",
      "Sexual y económica                          7   0.030807\n",
      "Explotación comercial laboral               2   0.008802\n",
      "8.- Explotación Comercial Laboral           1   0.004401\n",
      "Explotación comerci                         1   0.004401\n",
      "\n",
      "AGRESOR CANTIDAD:\n",
      "     Quantity    Percent\n",
      "1.0     17751  78.122524\n",
      "0.0      4112  18.096999\n",
      "2.0       750   3.300766\n",
      "3.0        81   0.356483\n",
      "4.0        20   0.088020\n",
      "5.0         7   0.030807\n",
      "9.0         1   0.004401\n",
      "\n",
      "VICTIMA RANGO ETARIO:\n",
      "                Quantity    Percent\n",
      "Sin Datos           9437  41.532436\n",
      "18 a 29 años        4402  19.373295\n",
      "30 a 39 años        3243  14.272511\n",
      "40 a 49 años        2009   8.841651\n",
      "Más de 60 años      1111   4.889534\n",
      "50 a 59 años         808   3.556025\n",
      "12 a 17 años         772   3.397588\n",
      "6 a 11 años          499   2.196109\n",
      "1 a 5 años           420   1.848429\n",
      "Sin datos             21   0.092421\n",
      "\n",
      "LLAMADO PROVINCIA INDEC ID:\n",
      "   Quantity  Percent\n",
      "2     22722    100.0\n",
      "\n",
      "LLAMADO PROVINCIA:\n",
      "                                 Quantity  Percent\n",
      "Ciudad Autónoma de Buenos Aires     22722    100.0\n",
      "\n",
      "LLAMADO DERIVACION:\n",
      "                                                    Quantity    Percent\n",
      "Llamante solicitó información y/o orientación           8863  39.006249\n",
      "Intervención Equipos Móviles a donde se encontr...      4204  18.501892\n",
      "La víctima no aceptó la intervención de Equipos...      3934  17.313617\n",
      "No había móviles y/o Equipos para realizar la i...      1634   7.191268\n",
      "No intervino equipo móvil por tratarse de un ca...      1604   7.059238\n",
      "No se trata de un caso de violencia familiar            1327   5.840155\n",
      "Se planificó intervención para otro momento              704   3.098319\n",
      "Está interviniendo o se deriva a otra institución        452   1.989262\n",
      "\n",
      "AGRESOR RELACION VICTIMA:\n",
      "                                        Quantity    Percent\n",
      "Espos@/compañer@ actual de la víctima       4915  21.631018\n",
      "Ns/Nc                                       4416  19.434909\n",
      "Ex espos@/ ex pareja de la víctima          3392  14.928263\n",
      "Espos@/compañer@ actual                     2526  11.116979\n",
      "Ex espos@/pareja                            1929   8.489570\n",
      "Hij@                                        1272   5.598099\n",
      "Padre de la víctima                          609   2.680222\n",
      "Madre de la víctima                          609   2.680222\n",
      "Madre                                        599   2.636212\n",
      "Padre                                        500   2.200511\n",
      "Herman@ de la victima                        311   1.368718\n",
      "Otro no conviviente de la victima            299   1.315905\n",
      "Herman@                                      276   1.214682\n",
      "Otro no conviviente                          248   1.091453\n",
      "NS/NC                                        214   0.941819\n",
      "Otro conviviente de la victima               160   0.704163\n",
      "Otro conviviente                             148   0.651351\n",
      "Pareja de la madre/padre de la víctima       133   0.585336\n",
      "Pareja de la madre/padre                     113   0.497315\n",
      "Abuel@                                        29   0.127630\n",
      "Abuel@ de la victima                          24   0.105625\n",
      "\n",
      "AGRESOR GENERO:\n",
      "             Quantity    Percent\n",
      "Masculino       15430  67.907755\n",
      "NS/NC            4727  20.803626\n",
      "Femenino         2558  11.257812\n",
      "Transgénero         4   0.017604\n",
      "Trans               3   0.013203\n",
      "\n",
      "VICTIMA CANTIDAD:\n",
      "           Quantity    Percent\n",
      "1              6880  30.279025\n",
      "1              4507  19.835402\n",
      "0              2185   9.616231\n",
      "2              1961   8.630402\n",
      "0              1814   7.983452\n",
      "2              1729   7.609365\n",
      "3              1123   4.942347\n",
      "3              1071   4.713494\n",
      "4               474   2.086084\n",
      "4               452   1.989262\n",
      "5               171   0.752575\n",
      "5               137   0.602940\n",
      "6                84   0.369686\n",
      "6                51   0.224452\n",
      "7                25   0.110026\n",
      "7                21   0.092421\n",
      "8                15   0.066015\n",
      "8                 5   0.022005\n",
      "10                4   0.017604\n",
      "10                3   0.013203\n",
      "9                 3   0.013203\n",
      "9                 3   0.013203\n",
      "11                1   0.004401\n",
      "11                1   0.004401\n",
      "Sin Datos         1   0.004401\n",
      "13                1   0.004401\n",
      "\n",
      "VICTIMA GENERO:\n",
      "             Quantity    Percent\n",
      "Femenino        16435  72.330781\n",
      "NS/NC            4477  19.703371\n",
      "Masculino        1789   7.873427\n",
      "Transgénero        13   0.057213\n",
      "Trans               8   0.035208\n",
      "\n",
      "VICTIMA EDAD:\n",
      "           Quantity    Percent\n",
      "Sin Datos      9434  41.519232\n",
      "30              500   2.200511\n",
      "24              425   1.870434\n",
      "25              413   1.817622\n",
      "23              409   1.800018\n",
      "29              409   1.800018\n",
      "28              391   1.720799\n",
      "26              390   1.716398\n",
      "22              387   1.703195\n",
      "27              377   1.659185\n",
      "35              347   1.527154\n",
      "31              335   1.474342\n",
      "21              330   1.452337\n",
      "32              328   1.443535\n",
      "20              323   1.421530\n",
      "40              319   1.403926\n",
      "36              316   1.390723\n",
      "38              306   1.346712\n",
      "37              298   1.311504\n",
      "33              293   1.289499\n",
      "19              285   1.254291\n",
      "39              264   1.161870\n",
      "18              263   1.157469\n",
      "42              260   1.144265\n",
      "34              256   1.126661\n",
      "41              256   1.126661\n",
      "43              212   0.933016\n",
      "44              202   0.889006\n",
      "45              189   0.831793\n",
      "46              173   0.761377\n",
      "...             ...        ...\n",
      "75               38   0.167239\n",
      "76               37   0.162838\n",
      "71               37   0.162838\n",
      "77               36   0.158437\n",
      "85               31   0.136432\n",
      "67               29   0.127630\n",
      "84               28   0.123229\n",
      "69               28   0.123229\n",
      "81               25   0.110026\n",
      "0                22   0.096822\n",
      "82               21   0.092421\n",
      "79               20   0.088020\n",
      "86               19   0.083619\n",
      "90               16   0.070416\n",
      "87               15   0.066015\n",
      "83               14   0.061614\n",
      "91               12   0.052812\n",
      "88               11   0.048411\n",
      "89                6   0.026406\n",
      "93                6   0.026406\n",
      "94                4   0.017604\n",
      "92                3   0.013203\n",
      "95                3   0.013203\n",
      "96                3   0.013203\n",
      "101               2   0.008802\n",
      "97                2   0.008802\n",
      "99                2   0.008802\n",
      "999               2   0.008802\n",
      "98                1   0.004401\n",
      "100               1   0.004401\n",
      "\n",
      "[104 rows x 2 columns]\n",
      "\n",
      "LLAMANTE VINCULO NIÑOS PRESENTES:\n",
      "                  Quantity    Percent\n",
      "Otro no familiar      7060  31.071209\n",
      "No hay niñas/os       5359  23.585072\n",
      "Sin datos             4316  18.994807\n",
      "Madre                 3652  16.072529\n",
      "Otro familiar         1288   5.668515\n",
      "Padre                  595   2.618608\n",
      "NS/NC                  272   1.197078\n",
      "Hermana/o              164   0.721767\n",
      "Padrastro               13   0.057213\n",
      "Padrasto                 3   0.013203\n",
      "\n",
      "LLAMANTE DESCRIPCION:\n",
      "                                                 Quantity    Percent\n",
      "Comisaría                                            8363  36.805739\n",
      "Víctima                                              5624  24.751342\n",
      "Profesionales PVCV                                   2267   9.977115\n",
      "Familiar de la víctima                               1858   8.177097\n",
      "Otro sobre un caso que no es violencia familiar      1508   6.636740\n",
      "Vecina/o de la víctima                                850   3.740868\n",
      "Otra institución                                      554   2.438166\n",
      "Hospital                                              476   2.094886\n",
      "Otro particular                                       316   1.390723\n",
      "Otro Particular                                       213   0.937417\n",
      "Otra Institución                                      198   0.871402\n",
      "Ns/Nc                                                 160   0.704163\n",
      "Familiar                                              102   0.448904\n",
      "Otro Institucional                                     89   0.391691\n",
      "Agresor/a                                              73   0.321275\n",
      "Otro/a Particular                                      32   0.140833\n",
      "NS/NC                                                  23   0.101223\n",
      "Defensoría                                             16   0.070416\n",
      "\n"
     ]
    }
   ],
   "source": [
    "print(\"LLAMANTE GENERO:\")\n",
    "print(LG)\n",
    "print()\n",
    "print(\"VIOLENCIA TIPO:\")\n",
    "print(VT)\n",
    "print()\n",
    "print(\"AGRESOR CANTIDAD:\")\n",
    "print(AC)\n",
    "print()\n",
    "print(\"VICTIMA RANGO ETARIO:\")\n",
    "print(VRE)\n",
    "print()\n",
    "print(\"LLAMADO PROVINCIA INDEC ID:\")\n",
    "print(LPII)\n",
    "print()\n",
    "print(\"LLAMADO PROVINCIA:\")\n",
    "print(LP)\n",
    "print()\n",
    "print(\"LLAMADO DERIVACION:\")\n",
    "print(LD)\n",
    "print()\n",
    "print(\"AGRESOR RELACION VICTIMA:\")\n",
    "print(ARV)\n",
    "print()\n",
    "print(\"AGRESOR GENERO:\")\n",
    "print(AG)\n",
    "print()\n",
    "print(\"VICTIMA CANTIDAD:\")\n",
    "print(VC)\n",
    "print()\n",
    "print(\"VICTIMA GENERO:\")\n",
    "print(VG)\n",
    "print()\n",
    "print(\"VICTIMA EDAD:\")\n",
    "print(VE)\n",
    "print()\n",
    "print(\"LLAMANTE VINCULO NIÑOS PRESENTES:\")\n",
    "print(LVNP)\n",
    "print()\n",
    "print(\"LLAMANTE DESCRIPCION:\")\n",
    "print(LDE)\n",
    "print()"
   ]
  },
  {
   "cell_type": "code",
   "execution_count": 22,
   "metadata": {},
   "outputs": [],
   "source": [
    "# 1) Vamos a dropear las columnas de \"llamado_provincia\" y \"llamado_provincia_indec_id\" por tratarse todos de una misma zona (CABA)\n",
    "# 2) Adicionalmente, vamos a corregir y estadarizar el contenido de los campos, ya que muchos presentan el \"mismo\" contenido pero\n",
    "# con problemas gramaticales o de tildes, etc.\n",
    "# 3) Vamos a dropear la columna \"caso_id\" ya que para el presente analisis no cumple ninguna funcion.\n",
    "# 4) Finalmente, vamos a limpiar varios campos que no poseen datos \"sin datos\" y los no sabe / no contesta que son \"NS/NC\""
   ]
  },
  {
   "cell_type": "code",
   "execution_count": 23,
   "metadata": {},
   "outputs": [],
   "source": [
    "aux = lavf_all.drop_duplicates()"
   ]
  },
  {
   "cell_type": "code",
   "execution_count": 24,
   "metadata": {},
   "outputs": [
    {
     "data": {
      "text/plain": [
       "(22718, 16)"
      ]
     },
     "execution_count": 24,
     "metadata": {},
     "output_type": "execute_result"
    }
   ],
   "source": [
    "aux.shape"
   ]
  },
  {
   "cell_type": "code",
   "execution_count": 25,
   "metadata": {},
   "outputs": [
    {
     "name": "stdout",
     "output_type": "stream",
     "text": [
      "hay 700 duplicados, habra que ver si quitando los sin datos y los ns/nc siguen estando o no\n"
     ]
    }
   ],
   "source": [
    "print(\"hay 700 duplicados, habra que ver si quitando los sin datos y los ns/nc siguen estando o no\")"
   ]
  },
  {
   "cell_type": "code",
   "execution_count": 26,
   "metadata": {},
   "outputs": [
    {
     "data": {
      "text/plain": [
       "(22722, 13)"
      ]
     },
     "execution_count": 26,
     "metadata": {},
     "output_type": "execute_result"
    }
   ],
   "source": [
    "lavf_all_new = lavf_all.drop(['llamado_provincia_indec_id','llamado_provincia', 'caso_id'], axis=1)\n",
    "lavf_all_new.shape"
   ]
  },
  {
   "cell_type": "markdown",
   "metadata": {},
   "source": [
    "# Desglosamos la feature de tiempo y agregamos el momento del dia en que ocurre"
   ]
  },
  {
   "cell_type": "code",
   "execution_count": 27,
   "metadata": {},
   "outputs": [
    {
     "data": {
      "text/plain": [
       "(22722, 17)"
      ]
     },
     "execution_count": 27,
     "metadata": {},
     "output_type": "execute_result"
    }
   ],
   "source": [
    "lavf_all_new['llamado_fecha_hora'] = pd.to_datetime(lavf_all_new['llamado_fecha_hora'])\n",
    "lavf_all_new['año'] = lavf_all_new['llamado_fecha_hora'].dt.year\n",
    "lavf_all_new['mes'] = lavf_all_new['llamado_fecha_hora'].dt.month\n",
    "lavf_all_new['hora'] = lavf_all_new['llamado_fecha_hora'].dt.time\n",
    "lavf_all_new['hora_sola'] = lavf_all_new['llamado_fecha_hora'].dt.hour\n",
    "lavf_all_new.shape"
   ]
  },
  {
   "cell_type": "code",
   "execution_count": 28,
   "metadata": {},
   "outputs": [
    {
     "data": {
      "text/html": [
       "<div>\n",
       "<style scoped>\n",
       "    .dataframe tbody tr th:only-of-type {\n",
       "        vertical-align: middle;\n",
       "    }\n",
       "\n",
       "    .dataframe tbody tr th {\n",
       "        vertical-align: top;\n",
       "    }\n",
       "\n",
       "    .dataframe thead th {\n",
       "        text-align: right;\n",
       "    }\n",
       "</style>\n",
       "<table border=\"1\" class=\"dataframe\">\n",
       "  <thead>\n",
       "    <tr style=\"text-align: right;\">\n",
       "      <th></th>\n",
       "      <th>llamante_descripcion</th>\n",
       "      <th>llamante_genero</th>\n",
       "      <th>llamante_vinculo_ninios_presentes</th>\n",
       "      <th>violencia_tipo</th>\n",
       "      <th>victima_edad</th>\n",
       "      <th>victima_rango_etario</th>\n",
       "      <th>victima_genero</th>\n",
       "      <th>victima_cantidad</th>\n",
       "      <th>agresor_cantidad</th>\n",
       "      <th>agresor_genero</th>\n",
       "      <th>agresor_relacion_victima</th>\n",
       "      <th>llamado_derivacion</th>\n",
       "      <th>llamado_fecha_hora</th>\n",
       "      <th>año</th>\n",
       "      <th>mes</th>\n",
       "      <th>hora</th>\n",
       "      <th>hora_sola</th>\n",
       "    </tr>\n",
       "  </thead>\n",
       "  <tbody>\n",
       "    <tr>\n",
       "      <th>0</th>\n",
       "      <td>Comisaría</td>\n",
       "      <td>Masculino</td>\n",
       "      <td>Otro no familiar</td>\n",
       "      <td>Física</td>\n",
       "      <td>27</td>\n",
       "      <td>18 a 29 años</td>\n",
       "      <td>Femenino</td>\n",
       "      <td>3</td>\n",
       "      <td>1.0</td>\n",
       "      <td>Masculino</td>\n",
       "      <td>Espos@/compañer@ actual de la víctima</td>\n",
       "      <td>La víctima no aceptó la intervención de Equipo...</td>\n",
       "      <td>2017-01-01 01:37:54</td>\n",
       "      <td>2017</td>\n",
       "      <td>1</td>\n",
       "      <td>01:37:54</td>\n",
       "      <td>1</td>\n",
       "    </tr>\n",
       "    <tr>\n",
       "      <th>1</th>\n",
       "      <td>Comisaría</td>\n",
       "      <td>Femenino</td>\n",
       "      <td>Sin datos</td>\n",
       "      <td>Física</td>\n",
       "      <td>Sin Datos</td>\n",
       "      <td>Sin Datos</td>\n",
       "      <td>Femenino</td>\n",
       "      <td>2</td>\n",
       "      <td>1.0</td>\n",
       "      <td>Masculino</td>\n",
       "      <td>Herman@ de la victima</td>\n",
       "      <td>Llamante solicitó información y/o orientación</td>\n",
       "      <td>2017-01-01 06:42:25</td>\n",
       "      <td>2017</td>\n",
       "      <td>1</td>\n",
       "      <td>06:42:25</td>\n",
       "      <td>6</td>\n",
       "    </tr>\n",
       "    <tr>\n",
       "      <th>2</th>\n",
       "      <td>Víctima</td>\n",
       "      <td>Femenino</td>\n",
       "      <td>Madre</td>\n",
       "      <td>Física</td>\n",
       "      <td>Sin Datos</td>\n",
       "      <td>Sin Datos</td>\n",
       "      <td>Femenino</td>\n",
       "      <td>1</td>\n",
       "      <td>1.0</td>\n",
       "      <td>Masculino</td>\n",
       "      <td>Espos@/compañer@ actual de la víctima</td>\n",
       "      <td>Llamante solicitó información y/o orientación</td>\n",
       "      <td>2017-01-01 06:48:28</td>\n",
       "      <td>2017</td>\n",
       "      <td>1</td>\n",
       "      <td>06:48:28</td>\n",
       "      <td>6</td>\n",
       "    </tr>\n",
       "    <tr>\n",
       "      <th>3</th>\n",
       "      <td>Víctima</td>\n",
       "      <td>Femenino</td>\n",
       "      <td>No hay niñas/os</td>\n",
       "      <td>Física</td>\n",
       "      <td>Sin Datos</td>\n",
       "      <td>Sin Datos</td>\n",
       "      <td>Femenino</td>\n",
       "      <td>1</td>\n",
       "      <td>1.0</td>\n",
       "      <td>Masculino</td>\n",
       "      <td>Espos@/compañer@ actual de la víctima</td>\n",
       "      <td>Llamante solicitó información y/o orientación</td>\n",
       "      <td>2017-01-01 06:54:03</td>\n",
       "      <td>2017</td>\n",
       "      <td>1</td>\n",
       "      <td>06:54:03</td>\n",
       "      <td>6</td>\n",
       "    </tr>\n",
       "    <tr>\n",
       "      <th>4</th>\n",
       "      <td>Comisaría</td>\n",
       "      <td>Masculino</td>\n",
       "      <td>Otro no familiar</td>\n",
       "      <td>Psicológica</td>\n",
       "      <td>Sin Datos</td>\n",
       "      <td>Sin Datos</td>\n",
       "      <td>Masculino</td>\n",
       "      <td>1</td>\n",
       "      <td>1.0</td>\n",
       "      <td>Femenino</td>\n",
       "      <td>Madre de la víctima</td>\n",
       "      <td>Llamante solicitó información y/o orientación</td>\n",
       "      <td>2017-01-01 07:11:25</td>\n",
       "      <td>2017</td>\n",
       "      <td>1</td>\n",
       "      <td>07:11:25</td>\n",
       "      <td>7</td>\n",
       "    </tr>\n",
       "  </tbody>\n",
       "</table>\n",
       "</div>"
      ],
      "text/plain": [
       "  llamante_descripcion llamante_genero llamante_vinculo_ninios_presentes  \\\n",
       "0            Comisaría       Masculino                  Otro no familiar   \n",
       "1            Comisaría        Femenino                         Sin datos   \n",
       "2              Víctima        Femenino                             Madre   \n",
       "3              Víctima        Femenino                   No hay niñas/os   \n",
       "4            Comisaría       Masculino                  Otro no familiar   \n",
       "\n",
       "  violencia_tipo victima_edad victima_rango_etario victima_genero  \\\n",
       "0         Física           27         18 a 29 años       Femenino   \n",
       "1         Física    Sin Datos            Sin Datos       Femenino   \n",
       "2         Física    Sin Datos            Sin Datos       Femenino   \n",
       "3         Física    Sin Datos            Sin Datos       Femenino   \n",
       "4    Psicológica    Sin Datos            Sin Datos      Masculino   \n",
       "\n",
       "  victima_cantidad  agresor_cantidad agresor_genero  \\\n",
       "0                3               1.0      Masculino   \n",
       "1                2               1.0      Masculino   \n",
       "2                1               1.0      Masculino   \n",
       "3                1               1.0      Masculino   \n",
       "4                1               1.0       Femenino   \n",
       "\n",
       "                agresor_relacion_victima  \\\n",
       "0  Espos@/compañer@ actual de la víctima   \n",
       "1                  Herman@ de la victima   \n",
       "2  Espos@/compañer@ actual de la víctima   \n",
       "3  Espos@/compañer@ actual de la víctima   \n",
       "4                    Madre de la víctima   \n",
       "\n",
       "                                  llamado_derivacion  llamado_fecha_hora  \\\n",
       "0  La víctima no aceptó la intervención de Equipo... 2017-01-01 01:37:54   \n",
       "1      Llamante solicitó información y/o orientación 2017-01-01 06:42:25   \n",
       "2      Llamante solicitó información y/o orientación 2017-01-01 06:48:28   \n",
       "3      Llamante solicitó información y/o orientación 2017-01-01 06:54:03   \n",
       "4      Llamante solicitó información y/o orientación 2017-01-01 07:11:25   \n",
       "\n",
       "    año  mes      hora  hora_sola  \n",
       "0  2017    1  01:37:54          1  \n",
       "1  2017    1  06:42:25          6  \n",
       "2  2017    1  06:48:28          6  \n",
       "3  2017    1  06:54:03          6  \n",
       "4  2017    1  07:11:25          7  "
      ]
     },
     "execution_count": 28,
     "metadata": {},
     "output_type": "execute_result"
    }
   ],
   "source": [
    "lavf_all_new.head()"
   ]
  },
  {
   "cell_type": "code",
   "execution_count": 29,
   "metadata": {},
   "outputs": [
    {
     "data": {
      "text/html": [
       "<div>\n",
       "<style scoped>\n",
       "    .dataframe tbody tr th:only-of-type {\n",
       "        vertical-align: middle;\n",
       "    }\n",
       "\n",
       "    .dataframe tbody tr th {\n",
       "        vertical-align: top;\n",
       "    }\n",
       "\n",
       "    .dataframe thead th {\n",
       "        text-align: right;\n",
       "    }\n",
       "</style>\n",
       "<table border=\"1\" class=\"dataframe\">\n",
       "  <thead>\n",
       "    <tr style=\"text-align: right;\">\n",
       "      <th></th>\n",
       "      <th>llamante_descripcion</th>\n",
       "      <th>llamante_genero</th>\n",
       "      <th>llamante_vinculo_ninios_presentes</th>\n",
       "      <th>violencia_tipo</th>\n",
       "      <th>victima_edad</th>\n",
       "      <th>victima_rango_etario</th>\n",
       "      <th>victima_genero</th>\n",
       "      <th>victima_cantidad</th>\n",
       "      <th>agresor_cantidad</th>\n",
       "      <th>agresor_genero</th>\n",
       "      <th>agresor_relacion_victima</th>\n",
       "      <th>llamado_derivacion</th>\n",
       "      <th>llamado_fecha_hora</th>\n",
       "      <th>año</th>\n",
       "      <th>mes</th>\n",
       "      <th>hora</th>\n",
       "      <th>hora_sola</th>\n",
       "      <th>momento_del_dia</th>\n",
       "    </tr>\n",
       "  </thead>\n",
       "  <tbody>\n",
       "    <tr>\n",
       "      <th>0</th>\n",
       "      <td>Comisaría</td>\n",
       "      <td>Masculino</td>\n",
       "      <td>Otro no familiar</td>\n",
       "      <td>Física</td>\n",
       "      <td>27</td>\n",
       "      <td>18 a 29 años</td>\n",
       "      <td>Femenino</td>\n",
       "      <td>3</td>\n",
       "      <td>1.0</td>\n",
       "      <td>Masculino</td>\n",
       "      <td>Espos@/compañer@ actual de la víctima</td>\n",
       "      <td>La víctima no aceptó la intervención de Equipo...</td>\n",
       "      <td>2017-01-01 01:37:54</td>\n",
       "      <td>2017</td>\n",
       "      <td>1</td>\n",
       "      <td>01:37:54</td>\n",
       "      <td>1</td>\n",
       "      <td>Trasnoche</td>\n",
       "    </tr>\n",
       "    <tr>\n",
       "      <th>1</th>\n",
       "      <td>Comisaría</td>\n",
       "      <td>Femenino</td>\n",
       "      <td>Sin datos</td>\n",
       "      <td>Física</td>\n",
       "      <td>Sin Datos</td>\n",
       "      <td>Sin Datos</td>\n",
       "      <td>Femenino</td>\n",
       "      <td>2</td>\n",
       "      <td>1.0</td>\n",
       "      <td>Masculino</td>\n",
       "      <td>Herman@ de la victima</td>\n",
       "      <td>Llamante solicitó información y/o orientación</td>\n",
       "      <td>2017-01-01 06:42:25</td>\n",
       "      <td>2017</td>\n",
       "      <td>1</td>\n",
       "      <td>06:42:25</td>\n",
       "      <td>6</td>\n",
       "      <td>Mañana</td>\n",
       "    </tr>\n",
       "    <tr>\n",
       "      <th>2</th>\n",
       "      <td>Víctima</td>\n",
       "      <td>Femenino</td>\n",
       "      <td>Madre</td>\n",
       "      <td>Física</td>\n",
       "      <td>Sin Datos</td>\n",
       "      <td>Sin Datos</td>\n",
       "      <td>Femenino</td>\n",
       "      <td>1</td>\n",
       "      <td>1.0</td>\n",
       "      <td>Masculino</td>\n",
       "      <td>Espos@/compañer@ actual de la víctima</td>\n",
       "      <td>Llamante solicitó información y/o orientación</td>\n",
       "      <td>2017-01-01 06:48:28</td>\n",
       "      <td>2017</td>\n",
       "      <td>1</td>\n",
       "      <td>06:48:28</td>\n",
       "      <td>6</td>\n",
       "      <td>Mañana</td>\n",
       "    </tr>\n",
       "    <tr>\n",
       "      <th>3</th>\n",
       "      <td>Víctima</td>\n",
       "      <td>Femenino</td>\n",
       "      <td>No hay niñas/os</td>\n",
       "      <td>Física</td>\n",
       "      <td>Sin Datos</td>\n",
       "      <td>Sin Datos</td>\n",
       "      <td>Femenino</td>\n",
       "      <td>1</td>\n",
       "      <td>1.0</td>\n",
       "      <td>Masculino</td>\n",
       "      <td>Espos@/compañer@ actual de la víctima</td>\n",
       "      <td>Llamante solicitó información y/o orientación</td>\n",
       "      <td>2017-01-01 06:54:03</td>\n",
       "      <td>2017</td>\n",
       "      <td>1</td>\n",
       "      <td>06:54:03</td>\n",
       "      <td>6</td>\n",
       "      <td>Mañana</td>\n",
       "    </tr>\n",
       "    <tr>\n",
       "      <th>4</th>\n",
       "      <td>Comisaría</td>\n",
       "      <td>Masculino</td>\n",
       "      <td>Otro no familiar</td>\n",
       "      <td>Psicológica</td>\n",
       "      <td>Sin Datos</td>\n",
       "      <td>Sin Datos</td>\n",
       "      <td>Masculino</td>\n",
       "      <td>1</td>\n",
       "      <td>1.0</td>\n",
       "      <td>Femenino</td>\n",
       "      <td>Madre de la víctima</td>\n",
       "      <td>Llamante solicitó información y/o orientación</td>\n",
       "      <td>2017-01-01 07:11:25</td>\n",
       "      <td>2017</td>\n",
       "      <td>1</td>\n",
       "      <td>07:11:25</td>\n",
       "      <td>7</td>\n",
       "      <td>Mañana</td>\n",
       "    </tr>\n",
       "  </tbody>\n",
       "</table>\n",
       "</div>"
      ],
      "text/plain": [
       "  llamante_descripcion llamante_genero llamante_vinculo_ninios_presentes  \\\n",
       "0            Comisaría       Masculino                  Otro no familiar   \n",
       "1            Comisaría        Femenino                         Sin datos   \n",
       "2              Víctima        Femenino                             Madre   \n",
       "3              Víctima        Femenino                   No hay niñas/os   \n",
       "4            Comisaría       Masculino                  Otro no familiar   \n",
       "\n",
       "  violencia_tipo victima_edad victima_rango_etario victima_genero  \\\n",
       "0         Física           27         18 a 29 años       Femenino   \n",
       "1         Física    Sin Datos            Sin Datos       Femenino   \n",
       "2         Física    Sin Datos            Sin Datos       Femenino   \n",
       "3         Física    Sin Datos            Sin Datos       Femenino   \n",
       "4    Psicológica    Sin Datos            Sin Datos      Masculino   \n",
       "\n",
       "  victima_cantidad  agresor_cantidad agresor_genero  \\\n",
       "0                3               1.0      Masculino   \n",
       "1                2               1.0      Masculino   \n",
       "2                1               1.0      Masculino   \n",
       "3                1               1.0      Masculino   \n",
       "4                1               1.0       Femenino   \n",
       "\n",
       "                agresor_relacion_victima  \\\n",
       "0  Espos@/compañer@ actual de la víctima   \n",
       "1                  Herman@ de la victima   \n",
       "2  Espos@/compañer@ actual de la víctima   \n",
       "3  Espos@/compañer@ actual de la víctima   \n",
       "4                    Madre de la víctima   \n",
       "\n",
       "                                  llamado_derivacion  llamado_fecha_hora  \\\n",
       "0  La víctima no aceptó la intervención de Equipo... 2017-01-01 01:37:54   \n",
       "1      Llamante solicitó información y/o orientación 2017-01-01 06:42:25   \n",
       "2      Llamante solicitó información y/o orientación 2017-01-01 06:48:28   \n",
       "3      Llamante solicitó información y/o orientación 2017-01-01 06:54:03   \n",
       "4      Llamante solicitó información y/o orientación 2017-01-01 07:11:25   \n",
       "\n",
       "    año  mes      hora  hora_sola momento_del_dia  \n",
       "0  2017    1  01:37:54          1       Trasnoche  \n",
       "1  2017    1  06:42:25          6          Mañana  \n",
       "2  2017    1  06:48:28          6          Mañana  \n",
       "3  2017    1  06:54:03          6          Mañana  \n",
       "4  2017    1  07:11:25          7          Mañana  "
      ]
     },
     "execution_count": 29,
     "metadata": {},
     "output_type": "execute_result"
    }
   ],
   "source": [
    "lavf_all_new.loc[(lavf_all_new['hora_sola'] >= 0) & (lavf_all_new['hora_sola'] < 6), 'momento_del_dia'] = 'Trasnoche'\n",
    "lavf_all_new.loc[(lavf_all_new['hora_sola'] >= 6) & (lavf_all_new['hora_sola'] < 12), 'momento_del_dia']   = 'Mañana'\n",
    "lavf_all_new.loc[(lavf_all_new['hora_sola'] >= 12) & (lavf_all_new['hora_sola'] < 18), 'momento_del_dia']   = 'Tarde'\n",
    "lavf_all_new.loc[(lavf_all_new['hora_sola'] >= 18) & (lavf_all_new['hora_sola'] < 24), 'momento_del_dia']   = 'Noche'\n",
    "lavf_all_new.head()"
   ]
  },
  {
   "cell_type": "code",
   "execution_count": 30,
   "metadata": {},
   "outputs": [
    {
     "data": {
      "text/plain": [
       "array(['Trasnoche', 'Mañana', 'Tarde', 'Noche'], dtype=object)"
      ]
     },
     "execution_count": 30,
     "metadata": {},
     "output_type": "execute_result"
    }
   ],
   "source": [
    "lavf_all_new['momento_del_dia'].unique()"
   ]
  },
  {
   "cell_type": "code",
   "execution_count": 31,
   "metadata": {},
   "outputs": [],
   "source": [
    "# Una vez ya creada las columnas necesarias de tiempo y del momento del dia. Procedemos a quitar la columna \"hora_sola\" ya que\n",
    "# no cumple ninguna funcion. Al igual que la columna \"llamado_fecha_hora\", debido a que fue subdivida en otras 3 columnas."
   ]
  },
  {
   "cell_type": "code",
   "execution_count": 32,
   "metadata": {},
   "outputs": [
    {
     "data": {
      "text/plain": [
       "array([ 1,  6,  7,  8,  9, 10, 11, 12, 13, 14, 17, 18, 19, 20, 21, 22,  0,\n",
       "       15, 16, 23,  5,  3,  2,  4], dtype=int64)"
      ]
     },
     "execution_count": 32,
     "metadata": {},
     "output_type": "execute_result"
    }
   ],
   "source": [
    "lavf_all_new['hora_sola'].unique()"
   ]
  },
  {
   "cell_type": "code",
   "execution_count": 33,
   "metadata": {},
   "outputs": [],
   "source": [
    "ay = lavf_all_new['hora'].value_counts()\n",
    "ax = lavf_all_new['hora'].unique()\n",
    "ay2 = lavf_all_new['hora_sola'].value_counts()\n",
    "ax2 = lavf_all_new['hora_sola'].unique()\n",
    "horasola = {'Cantidad de llamados': ay2}\n",
    "horasoladt = pd.DataFrame(data=horasola)\n",
    "horasoladt = horasoladt.reset_index()\n",
    "horacompleta = {'Cantidad de llamados': ay}\n",
    "horacompletadt = pd.DataFrame(data=horacompleta)\n",
    "horacompletadt = horacompletadt.reset_index()"
   ]
  },
  {
   "cell_type": "code",
   "execution_count": 34,
   "metadata": {},
   "outputs": [
    {
     "data": {
      "image/png": "[encoded data removed]",
      "text/plain": [
       "<Figure size 1080x360 with 1 Axes>"
      ]
     },
     "metadata": {
      "needs_background": "light"
     },
     "output_type": "display_data"
    },
    {
     "data": {
      "image/png": "[encoded data removed]",
      "text/plain": [
       "<Figure size 1080x360 with 1 Axes>"
      ]
     },
     "metadata": {
      "needs_background": "light"
     },
     "output_type": "display_data"
    },
    {
     "data": {
      "image/png": "[encoded data removed]",
      "text/plain": [
       "<Figure size 1080x360 with 1 Axes>"
      ]
     },
     "metadata": {
      "needs_background": "light"
     },
     "output_type": "display_data"
    }
   ],
   "source": [
    "plt.figure(figsize=(15,5))\n",
    "asns = sns.lineplot(x=\"index\", y=\"Cantidad de llamados\", data=horacompletadt)\n",
    "asns.set(xlabel=\"Hora\", ylabel=\"Cantidad de llamados\")\n",
    "plt.title('Distribucion de los llamados a lo largo del dia',size = 20)\n",
    "\n",
    "plt.figure(figsize=(15,5))\n",
    "asns = sns.lineplot(x=\"index\",y=\"Cantidad de llamados\", data=horasoladt)\n",
    "asns.set(xlabel=\"Hora\", ylabel=\"Cantidad de llamados\")\n",
    "asns.set(xticks=ax2)\n",
    "\n",
    "plt.figure(figsize=(15,5))\n",
    "g = sns.kdeplot(lavf_all_new['hora_sola'], color=\"Green\", shade = True)\n",
    "plt.xlabel(\"Horario\")\n",
    "plt.ylabel(\"Frecuencia\")\n",
    "plt.title('Distribucion de llamados en las 24hs',size = 20)\n",
    "g.set(xticks=ax2)\n",
    "plt.show()"
   ]
  },
  {
   "cell_type": "code",
   "execution_count": 35,
   "metadata": {
    "scrolled": false
   },
   "outputs": [
    {
     "data": {
      "text/plain": [
       "Text(0, 0.5, 'Cantidad')"
      ]
     },
     "execution_count": 35,
     "metadata": {},
     "output_type": "execute_result"
    },
    {
     "data": {
      "image/png": "[encoded data removed]",
      "text/plain": [
       "<Figure size 720x360 with 1 Axes>"
      ]
     },
     "metadata": {
      "needs_background": "light"
     },
     "output_type": "display_data"
    }
   ],
   "source": [
    "plt.figure(figsize=(10,5))\n",
    "plt.title('Llamados segun momento dle dia',size = 20)\n",
    "sns.countplot(x=\"momento_del_dia\",data=lavf_all_new)\n",
    "plt.xlabel(\"Momento del dia\")\n",
    "plt.ylabel(\"Cantidad\")"
   ]
  },
  {
   "cell_type": "markdown",
   "metadata": {},
   "source": [
    "# Analizamos la feature de \"edades\" y visualizamos la data"
   ]
  },
  {
   "cell_type": "code",
   "execution_count": 36,
   "metadata": {
    "scrolled": false
   },
   "outputs": [
    {
     "data": {
      "text/plain": [
       "array(['3', '2', '1', '4', '6', '0', '5', '7', '10', '9', '8', '11',\n",
       "       'Sin Datos', 1, 3, 2, 4, 0, 6, 5, 7, 8, 10, 9, 13, 11],\n",
       "      dtype=object)"
      ]
     },
     "execution_count": 36,
     "metadata": {},
     "output_type": "execute_result"
    }
   ],
   "source": [
    "lavf_all_new['victima_cantidad'].unique()"
   ]
  },
  {
   "cell_type": "code",
   "execution_count": 37,
   "metadata": {},
   "outputs": [
    {
     "data": {
      "text/plain": [
       "array(['27', 'Sin Datos', '35', '25', '42', '53', '38', '31', '60', '28',\n",
       "       '77', '37', '36', '24', '22', '30', '41', '23', '40', '26', '18',\n",
       "       '33', '5', '20', '43', '48', '32', '44', '54', '81', '50', '4',\n",
       "       '16', '46', '34', '29', '63', '49', '39', '65', '21', '2', '52',\n",
       "       '3', '64', '76', '17', '45', '19', '13', '68', '7', '47', '1', '6',\n",
       "       '8', '9', '67', '88', '10', '87', '57', '55', '58', '84', '51',\n",
       "       '86', '62', '59', '69', '73', '85', '14', '0', '74', '83', '61',\n",
       "       '15', '91', '80', '56', '96', '66', '72', '12', '78', '11', '70',\n",
       "       '71', '75', '82', '90', '100', '93', '94', '79', '89', '92', '95',\n",
       "       '999', '98', '97', '99', '101'], dtype=object)"
      ]
     },
     "execution_count": 37,
     "metadata": {},
     "output_type": "execute_result"
    }
   ],
   "source": [
    "lavf_all_new['victima_edad'].unique()"
   ]
  },
  {
   "cell_type": "code",
   "execution_count": 38,
   "metadata": {},
   "outputs": [
    {
     "data": {
      "text/plain": [
       "(5026,)"
      ]
     },
     "execution_count": 38,
     "metadata": {},
     "output_type": "execute_result"
    }
   ],
   "source": [
    "lavf_edades = lavf_all_new.drop(lavf_all_new[(lavf_all_new['victima_edad'] == 'Sin Datos') | (lavf_all_new['victima_edad'] == '999') | (lavf_all_new['victima_rango_etario'] == 'Sin datos') | (lavf_all_new['victima_rango_etario'] == 'Sin Datos')].index, inplace = False)\n",
    "convert_dict = {'victima_cantidad': int, 'victima_edad': int} \n",
    "lavf_edades = lavf_edades.astype(convert_dict)\n",
    "lavf_edades['victima_cantidad'].unique()\n",
    "victima_edades = lavf_edades.iloc[:,4]\n",
    "victima_edades.shape"
   ]
  },
  {
   "cell_type": "code",
   "execution_count": 39,
   "metadata": {
    "scrolled": false
   },
   "outputs": [
    {
     "data": {
      "image/png": "[encoded data removed]",
      "text/plain": [
       "<Figure size 1440x360 with 1 Axes>"
      ]
     },
     "metadata": {
      "needs_background": "light"
     },
     "output_type": "display_data"
    },
    {
     "data": {
      "image/png": "[encoded data removed]",
      "text/plain": [
       "<Figure size 1440x360 with 1 Axes>"
      ]
     },
     "metadata": {
      "needs_background": "light"
     },
     "output_type": "display_data"
    },
    {
     "data": {
      "image/png": "[encoded data removed]",
      "text/plain": [
       "<Figure size 1080x360 with 1 Axes>"
      ]
     },
     "metadata": {
      "needs_background": "light"
     },
     "output_type": "display_data"
    }
   ],
   "source": [
    "plt.figure(figsize=(20,5))\n",
    "a = sns.countplot(x=\"victima_edad\",data=lavf_edades)\n",
    "a.set_xticklabels(a.get_xticklabels(), rotation=90)\n",
    "plt.xlabel(\"Victima Edad\")\n",
    "plt.ylabel(\"Cantidad\")\n",
    "plt.title('Distribucion de la edad',size = 20)\n",
    "\n",
    "plt.figure(figsize=(20,5))\n",
    "sns.kdeplot(victima_edades, color=\"Blue\", shade = True)\n",
    "plt.xlabel(\"Victima Edad\")\n",
    "plt.ylabel(\"Frecuencia\")\n",
    "\n",
    "\n",
    "plt.figure(figsize=(15,5))\n",
    "sns.countplot(x=\"victima_rango_etario\",data=lavf_edades)\n",
    "plt.xlabel(\"Victima Rango de Edad\")\n",
    "plt.ylabel(\"Cantidad\")\n",
    "plt.show()"
   ]
  },
  {
   "cell_type": "markdown",
   "metadata": {},
   "source": [
    "# Continuamos con la limpieza del dataset, en esta ocasion sacamos los \"Sin datos\" y los \"NS/NC\""
   ]
  },
  {
   "cell_type": "code",
   "execution_count": 40,
   "metadata": {},
   "outputs": [],
   "source": [
    "lavf_preparacion1 = lavf_all_new.drop(lavf_all_new[(lavf_all_new['victima_edad'] == 'Sin Datos') \n",
    "                                                   | (lavf_all_new['victima_edad'] == '999') \n",
    "                                                   | (lavf_all_new['victima_rango_etario'] == 'Sin datos') \n",
    "                                                   | (lavf_all_new['victima_rango_etario'] == 'Sin Datos')\n",
    "                                                   | (lavf_all_new['llamante_genero'] == 'NS/NC')\n",
    "                                                   | (lavf_all_new['violencia_tipo'] == 'Sin datos')\n",
    "                                                   | (lavf_all_new['violencia_tipo'] == 'No es un caso de Violencia Familiar')\n",
    "                                                   | (lavf_all_new['violencia_tipo'] == 'No es un caso de Vio')\n",
    "                                                   | (lavf_all_new['llamado_derivacion'] == 'No se trata de un caso de violencia familiar')\n",
    "                                                  ].index, inplace = False)"
   ]
  },
  {
   "cell_type": "code",
   "execution_count": 41,
   "metadata": {},
   "outputs": [
    {
     "data": {
      "text/plain": [
       "(4958, 18)"
      ]
     },
     "execution_count": 41,
     "metadata": {},
     "output_type": "execute_result"
    }
   ],
   "source": [
    "lavf_preparacion1.shape"
   ]
  },
  {
   "cell_type": "code",
   "execution_count": 42,
   "metadata": {},
   "outputs": [
    {
     "data": {
      "text/plain": [
       "(5026, 18)"
      ]
     },
     "execution_count": 42,
     "metadata": {},
     "output_type": "execute_result"
    }
   ],
   "source": [
    "lavf_edades.shape"
   ]
  },
  {
   "cell_type": "code",
   "execution_count": 43,
   "metadata": {},
   "outputs": [
    {
     "data": {
      "text/plain": [
       "(22722, 18)"
      ]
     },
     "execution_count": 43,
     "metadata": {},
     "output_type": "execute_result"
    }
   ],
   "source": [
    "lavf_all_new.shape"
   ]
  },
  {
   "cell_type": "code",
   "execution_count": 44,
   "metadata": {
    "scrolled": true
   },
   "outputs": [
    {
     "name": "stdout",
     "output_type": "stream",
     "text": [
      "LLAMANTE GENERO:\n",
      "             Quantity    Percent\n",
      "Femenino         3254  65.631303\n",
      "Masculino        1700  34.288019\n",
      "Transgénero         4   0.080678\n",
      "\n",
      "VIOLENCIA TIPO:\n",
      "                               Quantity    Percent\n",
      "Física                             3585  72.307382\n",
      "Psicológica                        1120  22.589754\n",
      "Económica y física                   91   1.835418\n",
      "Sexual                               91   1.835418\n",
      "Económica                            42   0.847116\n",
      "Otras                                22   0.443727\n",
      "Sexual y económica                    3   0.060508\n",
      "Física y sexual                       2   0.040339\n",
      "Explotación comercial laboral         1   0.020169\n",
      "Económica y Física                    1   0.020169\n",
      "\n",
      "AGRESOR CANTIDAD:\n",
      "     Quantity    Percent\n",
      "1.0      4690  94.594595\n",
      "2.0       191   3.852360\n",
      "0.0        39   0.786608\n",
      "3.0        26   0.524405\n",
      "4.0         8   0.161355\n",
      "5.0         3   0.060508\n",
      "9.0         1   0.020169\n",
      "\n",
      "VICTIMA RANGO ETARIO:\n",
      "                Quantity    Percent\n",
      "18 a 29 años        1666  33.602259\n",
      "30 a 39 años        1282  25.857200\n",
      "40 a 49 años         746  15.046390\n",
      "Más de 60 años       363   7.321501\n",
      "50 a 59 años         297   5.990319\n",
      "12 a 17 años         271   5.465914\n",
      "6 a 11 años          185   3.731343\n",
      "1 a 5 años           148   2.985075\n",
      "\n",
      "LLAMADO DERIVACION:\n",
      "                                                    Quantity    Percent\n",
      "Llamante solicitó información y/o orientación           2070  41.750706\n",
      "La víctima no aceptó la intervención de Equipos...      1270  25.615167\n",
      "Intervención Equipos Móviles a donde se encontr...       571  11.516741\n",
      "No había móviles y/o Equipos para realizar la i...       490   9.883017\n",
      "No intervino equipo móvil por tratarse de un ca...       231   4.659137\n",
      "Se planificó intervención para otro momento              214   4.316257\n",
      "Está interviniendo o se deriva a otra institución        112   2.258975\n",
      "\n",
      "AGRESOR RELACION VICTIMA:\n",
      "                                        Quantity    Percent\n",
      "Espos@/compañer@ actual de la víctima       2005  40.439693\n",
      "Ex espos@/ ex pareja de la víctima          1297  26.159742\n",
      "Hij@                                         284   5.728116\n",
      "Padre de la víctima                          254   5.123033\n",
      "Madre de la víctima                          227   4.578459\n",
      "Espos@/compañer@ actual                      163   3.287616\n",
      "Herman@ de la victima                        139   2.803550\n",
      "Ex espos@/pareja                             124   2.501008\n",
      "Otro no conviviente de la victima            115   2.319484\n",
      "Ns/Nc                                         91   1.835418\n",
      "Otro conviviente de la victima                58   1.169827\n",
      "Pareja de la madre/padre de la víctima        57   1.149657\n",
      "Madre                                         37   0.746269\n",
      "Padre                                         36   0.726099\n",
      "Herman@                                       26   0.524405\n",
      "Otro no conviviente                           15   0.302541\n",
      "Otro conviviente                              11   0.221864\n",
      "Abuel@ de la victima                           9   0.181525\n",
      "Pareja de la madre/padre                       8   0.161355\n",
      "NS/NC                                          1   0.020169\n",
      "Abuel@                                         1   0.020169\n",
      "\n",
      "AGRESOR GENERO:\n",
      "             Quantity    Percent\n",
      "Masculino        4254  85.800726\n",
      "Femenino          558  11.254538\n",
      "NS/NC             145   2.924566\n",
      "Transgénero         1   0.020169\n",
      "\n",
      "VICTIMA CANTIDAD:\n",
      "    Quantity    Percent\n",
      "1       2485  50.121017\n",
      "2       1005  20.270270\n",
      "3        603  12.162162\n",
      "1        297   5.990319\n",
      "4        259   5.223881\n",
      "2         85   1.714401\n",
      "5         80   1.613554\n",
      "3         49   0.988302\n",
      "6         27   0.544574\n",
      "4         22   0.443727\n",
      "7         13   0.262203\n",
      "0         10   0.201694\n",
      "8          8   0.161355\n",
      "5          5   0.100847\n",
      "6          4   0.080678\n",
      "10         2   0.040339\n",
      "9          1   0.020169\n",
      "9          1   0.020169\n",
      "8          1   0.020169\n",
      "11         1   0.020169\n",
      "\n",
      "VICTIMA GENERO:\n",
      "             Quantity    Percent\n",
      "Femenino         4436  89.471561\n",
      "Masculino         450   9.076240\n",
      "NS/NC              67   1.351351\n",
      "Transgénero         5   0.100847\n",
      "\n",
      "VICTIMA EDAD:\n",
      "     Quantity   Percent\n",
      "30        188  3.791852\n",
      "24        168  3.388463\n",
      "29        156  3.146430\n",
      "27        156  3.146430\n",
      "26        151  3.045583\n",
      "25        150  3.025413\n",
      "23        147  2.964905\n",
      "28        147  2.964905\n",
      "35        147  2.964905\n",
      "22        147  2.964905\n",
      "36        134  2.702703\n",
      "21        131  2.642194\n",
      "32        129  2.601856\n",
      "31        128  2.581686\n",
      "20        127  2.561517\n",
      "38        123  2.480839\n",
      "33        120  2.420331\n",
      "40        114  2.299314\n",
      "37        111  2.238806\n",
      "19        107  2.158128\n",
      "34        107  2.158128\n",
      "41         97  1.956434\n",
      "39         95  1.916095\n",
      "42         92  1.855587\n",
      "43         83  1.674062\n",
      "44         80  1.613554\n",
      "18         79  1.593384\n",
      "46         71  1.432029\n",
      "17         70  1.411860\n",
      "45         66  1.331182\n",
      "..        ...       ...\n",
      "70         16  0.322711\n",
      "72         16  0.322711\n",
      "66         16  0.322711\n",
      "71         15  0.302541\n",
      "64         14  0.282372\n",
      "62         14  0.282372\n",
      "78         13  0.262203\n",
      "77         13  0.262203\n",
      "76         13  0.262203\n",
      "75         12  0.242033\n",
      "68         11  0.221864\n",
      "63         10  0.201694\n",
      "74         10  0.201694\n",
      "85          9  0.181525\n",
      "86          8  0.161355\n",
      "69          7  0.141186\n",
      "79          7  0.141186\n",
      "67          6  0.121017\n",
      "84          6  0.121017\n",
      "82          5  0.100847\n",
      "91          5  0.100847\n",
      "81          5  0.100847\n",
      "93          4  0.080678\n",
      "83          4  0.080678\n",
      "89          3  0.060508\n",
      "94          2  0.040339\n",
      "87          2  0.040339\n",
      "88          2  0.040339\n",
      "90          1  0.020169\n",
      "100         1  0.020169\n",
      "\n",
      "[94 rows x 2 columns]\n",
      "\n",
      "LLAMANTE VINCULO NIÑOS PRESENTES:\n",
      "                  Quantity    Percent\n",
      "Otro no familiar      2097  42.295280\n",
      "No hay niñas/os       1323  26.684147\n",
      "Madre                  747  15.066559\n",
      "Sin datos              376   7.583703\n",
      "Otro familiar          263   5.304558\n",
      "Padre                  107   2.158128\n",
      "Hermana/o               39   0.786608\n",
      "Padrasto                 2   0.040339\n",
      "Padrastro                2   0.040339\n",
      "NS/NC                    2   0.040339\n",
      "\n",
      "LLAMANTE DESCRIPCION:\n",
      "                        Quantity    Percent\n",
      "Comisaría                   2702  54.497781\n",
      "Víctima                     1270  25.615167\n",
      "Familiar de la víctima       419   8.450988\n",
      "Otra institución             210   4.235579\n",
      "Hospital                     128   2.581686\n",
      "Vecina/o de la víctima       106   2.137959\n",
      "Otro particular               88   1.774909\n",
      "Agresor/a                      8   0.161355\n",
      "Familiar                       7   0.141186\n",
      "Otro Particular                5   0.100847\n",
      "Otra Institución               4   0.080678\n",
      "Ns/Nc                          4   0.080678\n",
      "Otro Institucional             3   0.060508\n",
      "Defensoría                     3   0.060508\n",
      "Otro/a Particular              1   0.020169\n",
      "\n"
     ]
    }
   ],
   "source": [
    "LG1 = lavf_preparacion1['llamante_genero'].value_counts()\n",
    "LG2 = ((lavf_preparacion1['llamante_genero'].value_counts()/lavf_preparacion1.shape[0])*100)\n",
    "LG = pd.concat([LG1, LG2], axis=1, keys=['Quantity', 'Percent'])\n",
    "VT1 = lavf_preparacion1['violencia_tipo'].value_counts()\n",
    "VT2 = ((lavf_preparacion1['violencia_tipo'].value_counts()/lavf_preparacion1.shape[0])*100)\n",
    "VT = pd.concat([VT1, VT2], axis=1, keys=['Quantity', 'Percent'])\n",
    "AC1 = lavf_preparacion1['agresor_cantidad'].value_counts()\n",
    "AC2 = ((lavf_preparacion1['agresor_cantidad'].value_counts()/lavf_preparacion1.shape[0])*100)\n",
    "AC = pd.concat([AC1, AC2], axis=1, keys=['Quantity', 'Percent'])\n",
    "VRE1 = lavf_preparacion1['victima_rango_etario'].value_counts()\n",
    "VRE2 = ((lavf_preparacion1['victima_rango_etario'].value_counts()/lavf_preparacion1.shape[0])*100)\n",
    "VRE = pd.concat([VRE1, VRE2], axis=1, keys=['Quantity', 'Percent'])\n",
    "LD1 = lavf_preparacion1['llamado_derivacion'].value_counts()\n",
    "LD2 = ((lavf_preparacion1['llamado_derivacion'].value_counts()/lavf_preparacion1.shape[0])*100)\n",
    "LD = pd.concat([LD1, LD2], axis=1, keys=['Quantity', 'Percent'])\n",
    "ARV1 = lavf_preparacion1['agresor_relacion_victima'].value_counts()\n",
    "ARV2 = ((lavf_preparacion1['agresor_relacion_victima'].value_counts()/lavf_preparacion1.shape[0])*100)\n",
    "ARV = pd.concat([ARV1, ARV2], axis=1, keys=['Quantity', 'Percent'])\n",
    "AG1 = lavf_preparacion1['agresor_genero'].value_counts()\n",
    "AG2 = ((lavf_preparacion1['agresor_genero'].value_counts()/lavf_preparacion1.shape[0])*100)\n",
    "AG = pd.concat([AG1, AG2], axis=1, keys=['Quantity', 'Percent'])\n",
    "VC1 = lavf_preparacion1['victima_cantidad'].value_counts()\n",
    "VC2 = ((lavf_preparacion1['victima_cantidad'].value_counts()/lavf_preparacion1.shape[0])*100)\n",
    "VC = pd.concat([VC1, VC2], axis=1, keys=['Quantity', 'Percent'])\n",
    "VG1 = lavf_preparacion1['victima_genero'].value_counts()\n",
    "VG2 = ((lavf_preparacion1['victima_genero'].value_counts()/lavf_preparacion1.shape[0])*100)\n",
    "VG = pd.concat([VG1, VG2], axis=1, keys=['Quantity', 'Percent'])\n",
    "VE1 = lavf_preparacion1['victima_edad'].value_counts()\n",
    "VE2 = ((lavf_preparacion1['victima_edad'].value_counts()/lavf_preparacion1.shape[0])*100)\n",
    "VE = pd.concat([VE1, VE2], axis=1, keys=['Quantity', 'Percent'])\n",
    "LVNP1 = lavf_preparacion1['llamante_vinculo_ninios_presentes'].value_counts()\n",
    "LVNP2 = ((lavf_preparacion1['llamante_vinculo_ninios_presentes'].value_counts()/lavf_preparacion1.shape[0])*100)\n",
    "LVNP = pd.concat([LVNP1, LVNP2], axis=1, keys=['Quantity', 'Percent'])\n",
    "LDE1 = lavf_preparacion1['llamante_descripcion'].value_counts()\n",
    "LDE2 = ((lavf_preparacion1['llamante_descripcion'].value_counts()/lavf_preparacion1.shape[0])*100)\n",
    "LDE = pd.concat([LDE1, LDE2], axis=1, keys=['Quantity', 'Percent'])\n",
    "print(\"LLAMANTE GENERO:\")\n",
    "print(LG)\n",
    "print()\n",
    "print(\"VIOLENCIA TIPO:\")\n",
    "print(VT)\n",
    "print()\n",
    "print(\"AGRESOR CANTIDAD:\")\n",
    "print(AC)\n",
    "print()\n",
    "print(\"VICTIMA RANGO ETARIO:\")\n",
    "print(VRE)\n",
    "print()\n",
    "print(\"LLAMADO DERIVACION:\")\n",
    "print(LD)\n",
    "print()\n",
    "print(\"AGRESOR RELACION VICTIMA:\")\n",
    "print(ARV)\n",
    "print()\n",
    "print(\"AGRESOR GENERO:\")\n",
    "print(AG)\n",
    "print()\n",
    "print(\"VICTIMA CANTIDAD:\")\n",
    "print(VC)\n",
    "print()\n",
    "print(\"VICTIMA GENERO:\")\n",
    "print(VG)\n",
    "print()\n",
    "print(\"VICTIMA EDAD:\")\n",
    "print(VE)\n",
    "print()\n",
    "print(\"LLAMANTE VINCULO NIÑOS PRESENTES:\")\n",
    "print(LVNP)\n",
    "print()\n",
    "print(\"LLAMANTE DESCRIPCION:\")\n",
    "print(LDE)\n",
    "print()"
   ]
  },
  {
   "cell_type": "code",
   "execution_count": 45,
   "metadata": {},
   "outputs": [],
   "source": [
    "lavf_preparacion2 = lavf_preparacion1.drop(lavf_preparacion1[(lavf_preparacion1['llamante_descripcion'] == 'Ns/Nc') \n",
    "                                                   | (lavf_preparacion1['llamante_vinculo_ninios_presentes'] == 'Sin datos') \n",
    "                                                   | (lavf_preparacion1['llamante_vinculo_ninios_presentes'] == 'NS/NC') \n",
    "                                                   | (lavf_preparacion1['victima_genero'] == 'NS/NC')\n",
    "                                                   | (lavf_preparacion1['agresor_genero'] == 'NS/NC')\n",
    "                                                   | (lavf_preparacion1['agresor_relacion_victima'] == 'Ns/Nc')   \n",
    "                                                  ].index, inplace = False)"
   ]
  },
  {
   "cell_type": "code",
   "execution_count": 46,
   "metadata": {},
   "outputs": [],
   "source": [
    "convert_dict = {'victima_cantidad': int, 'victima_edad': int}\n",
    "lavf_preparacion3 = lavf_preparacion2.astype(convert_dict)"
   ]
  },
  {
   "cell_type": "code",
   "execution_count": 47,
   "metadata": {
    "scrolled": true
   },
   "outputs": [
    {
     "name": "stdout",
     "output_type": "stream",
     "text": [
      "LLAMANTE GENERO:\n",
      "             Quantity    Percent\n",
      "Femenino         2810  65.885111\n",
      "Masculino        1451  34.021102\n",
      "Transgénero         4   0.093787\n",
      "\n",
      "VIOLENCIA TIPO:\n",
      "                    Quantity    Percent\n",
      "Física                  3102  72.731536\n",
      "Psicológica              948  22.227433\n",
      "Económica y física        82   1.922626\n",
      "Sexual                    76   1.781946\n",
      "Económica                 40   0.937866\n",
      "Otras                     12   0.281360\n",
      "Sexual y económica         3   0.070340\n",
      "Física y sexual            2   0.046893\n",
      "\n",
      "AGRESOR CANTIDAD:\n",
      "     Quantity    Percent\n",
      "1.0      4074  95.521688\n",
      "2.0       151   3.540445\n",
      "3.0        24   0.562720\n",
      "4.0         7   0.164127\n",
      "0.0         7   0.164127\n",
      "5.0         2   0.046893\n",
      "\n",
      "VICTIMA RANGO ETARIO:\n",
      "                Quantity    Percent\n",
      "18 a 29 años        1469  34.443142\n",
      "30 a 39 años        1118  26.213365\n",
      "40 a 49 años         651  15.263775\n",
      "Más de 60 años       302   7.080891\n",
      "50 a 59 años         257   6.025791\n",
      "12 a 17 años         207   4.853458\n",
      "6 a 11 años          146   3.423212\n",
      "1 a 5 años           115   2.696366\n",
      "\n",
      "LLAMADO DERIVACION:\n",
      "                                                    Quantity    Percent\n",
      "Llamante solicitó información y/o orientación           1747  40.961313\n",
      "La víctima no aceptó la intervención de Equipos...      1133  26.565064\n",
      "Intervención Equipos Móviles a donde se encontr...       495  11.606096\n",
      "No había móviles y/o Equipos para realizar la i...       423   9.917937\n",
      "Se planificó intervención para otro momento              191   4.478312\n",
      "No intervino equipo móvil por tratarse de un ca...       186   4.361079\n",
      "Está interviniendo o se deriva a otra institución         90   2.110199\n",
      "\n",
      "AGRESOR RELACION VICTIMA:\n",
      "                                        Quantity    Percent\n",
      "Espos@/compañer@ actual de la víctima       1784  41.828839\n",
      "Ex espos@/ ex pareja de la víctima          1183  27.737397\n",
      "Hij@                                         243   5.697538\n",
      "Padre de la víctima                          214   5.017585\n",
      "Madre de la víctima                          206   4.830012\n",
      "Espos@/compañer@ actual                      128   3.001172\n",
      "Herman@ de la victima                        114   2.672919\n",
      "Otro no conviviente de la victima            104   2.438453\n",
      "Ex espos@/pareja                              93   2.180539\n",
      "Otro conviviente de la victima                50   1.172333\n",
      "Pareja de la madre/padre de la víctima        44   1.031653\n",
      "Padre                                         28   0.656506\n",
      "Madre                                         26   0.609613\n",
      "Herman@                                       16   0.375147\n",
      "Otro no conviviente                           11   0.257913\n",
      "Otro conviviente                               8   0.187573\n",
      "Abuel@ de la victima                           8   0.187573\n",
      "Pareja de la madre/padre                       4   0.093787\n",
      "Abuel@                                         1   0.023447\n",
      "\n",
      "AGRESOR GENERO:\n",
      "             Quantity    Percent\n",
      "Masculino        3779  88.604924\n",
      "Femenino          485  11.371630\n",
      "Transgénero         1   0.023447\n",
      "\n",
      "VICTIMA CANTIDAD:\n",
      "    Quantity    Percent\n",
      "1       2306  54.067995\n",
      "2        964  22.602579\n",
      "3        595  13.950762\n",
      "4        259   6.072685\n",
      "5         82   1.922626\n",
      "6         29   0.679953\n",
      "7         12   0.281360\n",
      "8          7   0.164127\n",
      "0          7   0.164127\n",
      "10         2   0.046893\n",
      "11         1   0.023447\n",
      "9          1   0.023447\n",
      "\n",
      "VICTIMA GENERO:\n",
      "             Quantity    Percent\n",
      "Femenino         3879  90.949590\n",
      "Masculino         381   8.933177\n",
      "Transgénero         5   0.117233\n",
      "\n",
      "VICTIMA EDAD:\n",
      "     Quantity   Percent\n",
      "30        164  3.845252\n",
      "24        150  3.516999\n",
      "27        141  3.305979\n",
      "26        137  3.212192\n",
      "29        137  3.212192\n",
      "25        136  3.188746\n",
      "28        131  3.071512\n",
      "23        128  3.001172\n",
      "35        125  2.930832\n",
      "22        122  2.860492\n",
      "36        113  2.649472\n",
      "21        113  2.649472\n",
      "31        113  2.649472\n",
      "38        112  2.626026\n",
      "20        110  2.579132\n",
      "32        108  2.532239\n",
      "33        105  2.461899\n",
      "40        100  2.344666\n",
      "37         97  2.274326\n",
      "19         97  2.274326\n",
      "34         96  2.250879\n",
      "41         85  1.992966\n",
      "39         85  1.992966\n",
      "42         81  1.899179\n",
      "44         70  1.641266\n",
      "43         69  1.617819\n",
      "18         67  1.570926\n",
      "46         63  1.477140\n",
      "45         55  1.289566\n",
      "17         51  1.195780\n",
      "..        ...       ...\n",
      "62         13  0.304807\n",
      "55         13  0.304807\n",
      "70         12  0.281360\n",
      "71         12  0.281360\n",
      "77         11  0.257913\n",
      "80         11  0.257913\n",
      "64         11  0.257913\n",
      "75         10  0.234467\n",
      "78         10  0.234467\n",
      "76         10  0.234467\n",
      "74          9  0.211020\n",
      "63          9  0.211020\n",
      "85          8  0.187573\n",
      "68          8  0.187573\n",
      "86          7  0.164127\n",
      "69          6  0.140680\n",
      "91          5  0.117233\n",
      "84          5  0.117233\n",
      "81          5  0.117233\n",
      "82          5  0.117233\n",
      "67          5  0.117233\n",
      "79          3  0.070340\n",
      "93          3  0.070340\n",
      "89          2  0.046893\n",
      "87          2  0.046893\n",
      "94          2  0.046893\n",
      "83          2  0.046893\n",
      "88          1  0.023447\n",
      "100         1  0.023447\n",
      "90          1  0.023447\n",
      "\n",
      "[94 rows x 2 columns]\n",
      "\n",
      "LLAMANTE VINCULO NIÑOS PRESENTES:\n",
      "                  Quantity    Percent\n",
      "Otro no familiar      1962  46.002345\n",
      "No hay niñas/os       1235  28.956624\n",
      "Madre                  694  16.271981\n",
      "Otro familiar          248   5.814771\n",
      "Padre                   87   2.039859\n",
      "Hermana/o               36   0.844080\n",
      "Padrasto                 2   0.046893\n",
      "Padrastro                1   0.023447\n",
      "\n",
      "LLAMANTE DESCRIPCION:\n",
      "                        Quantity    Percent\n",
      "Comisaría                   2368  55.521688\n",
      "Víctima                     1100  25.791325\n",
      "Familiar de la víctima       348   8.159437\n",
      "Otra institución             180   4.220399\n",
      "Hospital                     109   2.555686\n",
      "Vecina/o de la víctima        73   1.711606\n",
      "Otro particular               66   1.547479\n",
      "Agresor/a                      7   0.164127\n",
      "Otro Particular                4   0.093787\n",
      "Otra Institución               3   0.070340\n",
      "Otro Institucional             3   0.070340\n",
      "Defensoría                     3   0.070340\n",
      "Familiar                       1   0.023447\n",
      "\n"
     ]
    }
   ],
   "source": [
    "LG1 = lavf_preparacion3['llamante_genero'].value_counts()\n",
    "LG2 = ((lavf_preparacion3['llamante_genero'].value_counts()/lavf_preparacion3.shape[0])*100)\n",
    "LG = pd.concat([LG1, LG2], axis=1, keys=['Quantity', 'Percent'])\n",
    "VT1 = lavf_preparacion3['violencia_tipo'].value_counts()\n",
    "VT2 = ((lavf_preparacion3['violencia_tipo'].value_counts()/lavf_preparacion3.shape[0])*100)\n",
    "VT = pd.concat([VT1, VT2], axis=1, keys=['Quantity', 'Percent'])\n",
    "AC1 = lavf_preparacion3['agresor_cantidad'].value_counts()\n",
    "AC2 = ((lavf_preparacion3['agresor_cantidad'].value_counts()/lavf_preparacion3.shape[0])*100)\n",
    "AC = pd.concat([AC1, AC2], axis=1, keys=['Quantity', 'Percent'])\n",
    "VRE1 = lavf_preparacion3['victima_rango_etario'].value_counts()\n",
    "VRE2 = ((lavf_preparacion3['victima_rango_etario'].value_counts()/lavf_preparacion3.shape[0])*100)\n",
    "VRE = pd.concat([VRE1, VRE2], axis=1, keys=['Quantity', 'Percent'])\n",
    "LD1 = lavf_preparacion3['llamado_derivacion'].value_counts()\n",
    "LD2 = ((lavf_preparacion3['llamado_derivacion'].value_counts()/lavf_preparacion3.shape[0])*100)\n",
    "LD = pd.concat([LD1, LD2], axis=1, keys=['Quantity', 'Percent'])\n",
    "ARV1 = lavf_preparacion3['agresor_relacion_victima'].value_counts()\n",
    "ARV2 = ((lavf_preparacion3['agresor_relacion_victima'].value_counts()/lavf_preparacion3.shape[0])*100)\n",
    "ARV = pd.concat([ARV1, ARV2], axis=1, keys=['Quantity', 'Percent'])\n",
    "AG1 = lavf_preparacion3['agresor_genero'].value_counts()\n",
    "AG2 = ((lavf_preparacion3['agresor_genero'].value_counts()/lavf_preparacion3.shape[0])*100)\n",
    "AG = pd.concat([AG1, AG2], axis=1, keys=['Quantity', 'Percent'])\n",
    "VC1 = lavf_preparacion3['victima_cantidad'].value_counts()\n",
    "VC2 = ((lavf_preparacion3['victima_cantidad'].value_counts()/lavf_preparacion3.shape[0])*100)\n",
    "VC = pd.concat([VC1, VC2], axis=1, keys=['Quantity', 'Percent'])\n",
    "VG1 = lavf_preparacion3['victima_genero'].value_counts()\n",
    "VG2 = ((lavf_preparacion3['victima_genero'].value_counts()/lavf_preparacion3.shape[0])*100)\n",
    "VG = pd.concat([VG1, VG2], axis=1, keys=['Quantity', 'Percent'])\n",
    "VE1 = lavf_preparacion3['victima_edad'].value_counts()\n",
    "VE2 = ((lavf_preparacion3['victima_edad'].value_counts()/lavf_preparacion3.shape[0])*100)\n",
    "VE = pd.concat([VE1, VE2], axis=1, keys=['Quantity', 'Percent'])\n",
    "LVNP1 = lavf_preparacion3['llamante_vinculo_ninios_presentes'].value_counts()\n",
    "LVNP2 = ((lavf_preparacion3['llamante_vinculo_ninios_presentes'].value_counts()/lavf_preparacion3.shape[0])*100)\n",
    "LVNP = pd.concat([LVNP1, LVNP2], axis=1, keys=['Quantity', 'Percent'])\n",
    "LDE1 = lavf_preparacion3['llamante_descripcion'].value_counts()\n",
    "LDE2 = ((lavf_preparacion3['llamante_descripcion'].value_counts()/lavf_preparacion3.shape[0])*100)\n",
    "LDE = pd.concat([LDE1, LDE2], axis=1, keys=['Quantity', 'Percent'])\n",
    "print(\"LLAMANTE GENERO:\")\n",
    "print(LG)\n",
    "print()\n",
    "print(\"VIOLENCIA TIPO:\")\n",
    "print(VT)\n",
    "print()\n",
    "print(\"AGRESOR CANTIDAD:\")\n",
    "print(AC)\n",
    "print()\n",
    "print(\"VICTIMA RANGO ETARIO:\")\n",
    "print(VRE)\n",
    "print()\n",
    "print(\"LLAMADO DERIVACION:\")\n",
    "print(LD)\n",
    "print()\n",
    "print(\"AGRESOR RELACION VICTIMA:\")\n",
    "print(ARV)\n",
    "print()\n",
    "print(\"AGRESOR GENERO:\")\n",
    "print(AG)\n",
    "print()\n",
    "print(\"VICTIMA CANTIDAD:\")\n",
    "print(VC)\n",
    "print()\n",
    "print(\"VICTIMA GENERO:\")\n",
    "print(VG)\n",
    "print()\n",
    "print(\"VICTIMA EDAD:\")\n",
    "print(VE)\n",
    "print()\n",
    "print(\"LLAMANTE VINCULO NIÑOS PRESENTES:\")\n",
    "print(LVNP)\n",
    "print()\n",
    "print(\"LLAMANTE DESCRIPCION:\")\n",
    "print(LDE)\n",
    "print()"
   ]
  },
  {
   "cell_type": "code",
   "execution_count": 48,
   "metadata": {},
   "outputs": [
    {
     "data": {
      "text/plain": [
       "(4265, 18)"
      ]
     },
     "execution_count": 48,
     "metadata": {},
     "output_type": "execute_result"
    }
   ],
   "source": [
    "lavf_preparacion3.shape"
   ]
  },
  {
   "cell_type": "markdown",
   "metadata": {},
   "source": [
    "# Tercera parte de la exploracion y limpieza del dataset, en esa ocasion normalizamos los campos textos"
   ]
  },
  {
   "cell_type": "code",
   "execution_count": 49,
   "metadata": {},
   "outputs": [],
   "source": [
    "lavf_preparacion3.loc[(lavf_preparacion3['violencia_tipo'] != \"Física\") & (lavf_preparacion3['violencia_tipo'] != \"Psicológica\"), 'violencia_tipo'] = 'Otros'\n",
    "lavf_preparacion3 = lavf_preparacion3.drop(lavf_preparacion3[(lavf_preparacion3['agresor_cantidad'] == 0) ].index, inplace = False)\n",
    "lavf_preparacion3.loc[(lavf_preparacion3['agresor_relacion_victima'] == \"Espos@/compañer@ actual\"), 'agresor_relacion_victima'] = 'Espos@/compañer@ actual de la víctima'\n",
    "lavf_preparacion3.loc[(lavf_preparacion3['agresor_relacion_victima'] == \"Ex espos@/pareja\"), 'agresor_relacion_victima'] = 'Ex espos@/ ex pareja de la víctima'\n",
    "lavf_preparacion3.loc[(lavf_preparacion3['agresor_relacion_victima'] == \"Padre\"), 'agresor_relacion_victima'] = \"Padre de la víctima\"\n",
    "lavf_preparacion3.loc[(lavf_preparacion3['agresor_relacion_victima'] == \"Madre\"), 'agresor_relacion_victima'] = \"Madre de la víctima\"\n",
    "lavf_preparacion3.loc[(lavf_preparacion3['agresor_relacion_victima'] == \"Herman@\"), 'agresor_relacion_victima'] = \"Herman@ de la victima\"\n",
    "lavf_preparacion3.loc[(lavf_preparacion3['agresor_relacion_victima'] == \"Abuel@\"), 'agresor_relacion_victima'] = \"Abuel@ de la victima\"\n",
    "lavf_preparacion3.loc[(lavf_preparacion3['agresor_relacion_victima'] == \"Pareja de la madre/padre\"), 'agresor_relacion_victima'] = \"Pareja de la madre/padre de la víctima \"\n",
    "lavf_preparacion3.loc[(lavf_preparacion3['agresor_relacion_victima'] == \"Otro no conviviente@\"), 'agresor_relacion_victima'] = \"Otro no conviviente de la victima\"\n",
    "lavf_preparacion3.loc[(lavf_preparacion3['agresor_relacion_victima'] == \"Otro conviviente\"), 'agresor_relacion_victima'] = \"Otro conviviente de la victima\"\n",
    "lavf_preparacion3.loc[(lavf_preparacion3['llamante_vinculo_ninios_presentes'] == \"Padrasto\"), 'llamante_vinculo_ninios_presentes'] = \"Padrastro\"\n",
    "lavf_preparacion3.loc[(lavf_preparacion3['llamante_descripcion'] == \"Familiar\"), 'llamante_descripcion'] = \"Familiar de la víctima\"\n",
    "lavf_preparacion3.loc[(lavf_preparacion3['llamante_descripcion'] == \"Otro Institucional\") | (lavf_preparacion3['llamante_descripcion'] == \"Otra Institución \"), 'llamante_descripcion'] = \"Otra institución\"\n",
    "lavf_preparacion3.loc[(lavf_preparacion3['llamante_descripcion'] == \"Otro Particular\"), 'llamante_descripcion'] = \"Otro particular\""
   ]
  },
  {
   "cell_type": "code",
   "execution_count": 50,
   "metadata": {},
   "outputs": [
    {
     "name": "stdout",
     "output_type": "stream",
     "text": [
      "LLAMANTE GENERO:\n",
      "             Quantity    Percent\n",
      "Femenino         2805  65.906955\n",
      "Masculino        1447  33.999060\n",
      "Transgénero         4   0.093985\n",
      "\n",
      "VIOLENCIA TIPO:\n",
      "             Quantity    Percent\n",
      "Física           3095  72.720865\n",
      "Psicológica       947  22.250940\n",
      "Otros             214   5.028195\n",
      "\n",
      "AGRESOR CANTIDAD:\n",
      "     Quantity    Percent\n",
      "1.0      4072  95.676692\n",
      "2.0       151   3.547932\n",
      "3.0        24   0.563910\n",
      "4.0         7   0.164474\n",
      "5.0         2   0.046992\n",
      "\n",
      "VICTIMA RANGO ETARIO:\n",
      "                Quantity    Percent\n",
      "18 a 29 años        1468  34.492481\n",
      "30 a 39 años        1114  26.174812\n",
      "40 a 49 años         650  15.272556\n",
      "Más de 60 años       301   7.072368\n",
      "50 a 59 años         257   6.038534\n",
      "12 a 17 años         206   4.840226\n",
      "6 a 11 años          146   3.430451\n",
      "1 a 5 años           114   2.678571\n",
      "\n",
      "LLAMADO DERIVACION:\n",
      "                                                    Quantity    Percent\n",
      "Llamante solicitó información y/o orientación           1744  40.977444\n",
      "La víctima no aceptó la intervención de Equipos...      1130  26.550752\n",
      "Intervención Equipos Móviles a donde se encontr...       494  11.607143\n",
      "No había móviles y/o Equipos para realizar la i...       422   9.915414\n",
      "Se planificó intervención para otro momento              191   4.487782\n",
      "No intervino equipo móvil por tratarse de un ca...       186   4.370301\n",
      "Está interviniendo o se deriva a otra institución         89   2.091165\n",
      "\n",
      "AGRESOR RELACION VICTIMA:\n",
      "                                         Quantity    Percent\n",
      "Espos@/compañer@ actual de la víctima        1908  44.830827\n",
      "Ex espos@/ ex pareja de la víctima           1275  29.957707\n",
      "Hij@                                          243   5.709586\n",
      "Padre de la víctima                           241   5.662594\n",
      "Madre de la víctima                           230   5.404135\n",
      "Herman@ de la victima                         130   3.054511\n",
      "Otro no conviviente de la victima             104   2.443609\n",
      "Otro conviviente de la victima                 57   1.339286\n",
      "Pareja de la madre/padre de la víctima         44   1.033835\n",
      "Otro no conviviente                            11   0.258459\n",
      "Abuel@ de la victima                            9   0.211466\n",
      "Pareja de la madre/padre de la víctima          4   0.093985\n",
      "\n",
      "AGRESOR GENERO:\n",
      "             Quantity    Percent\n",
      "Masculino        3773  88.651316\n",
      "Femenino          482  11.325188\n",
      "Transgénero         1   0.023496\n",
      "\n",
      "VICTIMA CANTIDAD:\n",
      "    Quantity    Percent\n",
      "1       2300  54.041353\n",
      "2        964  22.650376\n",
      "3        594  13.956767\n",
      "4        259   6.085526\n",
      "5         82   1.926692\n",
      "6         29   0.681391\n",
      "7         12   0.281955\n",
      "8          6   0.140977\n",
      "0          6   0.140977\n",
      "10         2   0.046992\n",
      "11         1   0.023496\n",
      "9          1   0.023496\n",
      "\n",
      "VICTIMA GENERO:\n",
      "             Quantity    Percent\n",
      "Femenino         3874  91.024436\n",
      "Masculino         377   8.858083\n",
      "Transgénero         5   0.117481\n",
      "\n",
      "VICTIMA EDAD:\n",
      "     Quantity   Percent\n",
      "30        164  3.853383\n",
      "24        150  3.524436\n",
      "27        140  3.289474\n",
      "26        137  3.218985\n",
      "29        137  3.218985\n",
      "25        136  3.195489\n",
      "28        131  3.078008\n",
      "23        128  3.007519\n",
      "35        124  2.913534\n",
      "22        122  2.866541\n",
      "36        113  2.655075\n",
      "21        113  2.655075\n",
      "31        112  2.631579\n",
      "38        111  2.608083\n",
      "20        110  2.584586\n",
      "32        107  2.514098\n",
      "33        105  2.467105\n",
      "40        100  2.349624\n",
      "19         97  2.279135\n",
      "37         97  2.279135\n",
      "34         96  2.255639\n",
      "41         85  1.997180\n",
      "39         85  1.997180\n",
      "42         81  1.903195\n",
      "44         70  1.644737\n",
      "43         69  1.621241\n",
      "18         67  1.574248\n",
      "46         63  1.480263\n",
      "45         55  1.292293\n",
      "17         51  1.198308\n",
      "..        ...       ...\n",
      "72         13  0.305451\n",
      "55         13  0.305451\n",
      "71         12  0.281955\n",
      "70         12  0.281955\n",
      "64         11  0.258459\n",
      "77         11  0.258459\n",
      "80         11  0.258459\n",
      "76         10  0.234962\n",
      "75         10  0.234962\n",
      "78         10  0.234962\n",
      "63          9  0.211466\n",
      "74          8  0.187970\n",
      "68          8  0.187970\n",
      "85          8  0.187970\n",
      "86          7  0.164474\n",
      "69          6  0.140977\n",
      "91          5  0.117481\n",
      "84          5  0.117481\n",
      "81          5  0.117481\n",
      "82          5  0.117481\n",
      "67          5  0.117481\n",
      "79          3  0.070489\n",
      "93          3  0.070489\n",
      "89          2  0.046992\n",
      "87          2  0.046992\n",
      "94          2  0.046992\n",
      "83          2  0.046992\n",
      "88          1  0.023496\n",
      "100         1  0.023496\n",
      "90          1  0.023496\n",
      "\n",
      "[94 rows x 2 columns]\n",
      "\n",
      "LLAMANTE VINCULO NIÑOS PRESENTES:\n",
      "                  Quantity    Percent\n",
      "Otro no familiar      1956  45.958647\n",
      "No hay niñas/os       1234  28.994361\n",
      "Madre                  694  16.306391\n",
      "Otro familiar          247   5.803571\n",
      "Padre                   86   2.020677\n",
      "Hermana/o               36   0.845865\n",
      "Padrastro                3   0.070489\n",
      "\n",
      "LLAMANTE DESCRIPCION:\n",
      "                        Quantity    Percent\n",
      "Comisaría                   2364  55.545113\n",
      "Víctima                     1099  25.822368\n",
      "Familiar de la víctima       348   8.176692\n",
      "Otra institución             182   4.276316\n",
      "Hospital                     109   2.561090\n",
      "Vecina/o de la víctima        71   1.668233\n",
      "Otro particular               70   1.644737\n",
      "Agresor/a                      7   0.164474\n",
      "Otra Institución               3   0.070489\n",
      "Defensoría                     3   0.070489\n",
      "\n"
     ]
    }
   ],
   "source": [
    "LG1 = lavf_preparacion3['llamante_genero'].value_counts()\n",
    "LG2 = ((lavf_preparacion3['llamante_genero'].value_counts()/lavf_preparacion3.shape[0])*100)\n",
    "LG = pd.concat([LG1, LG2], axis=1, keys=['Quantity', 'Percent'])\n",
    "VT1 = lavf_preparacion3['violencia_tipo'].value_counts()\n",
    "VT2 = ((lavf_preparacion3['violencia_tipo'].value_counts()/lavf_preparacion3.shape[0])*100)\n",
    "VT = pd.concat([VT1, VT2], axis=1, keys=['Quantity', 'Percent'])\n",
    "AC1 = lavf_preparacion3['agresor_cantidad'].value_counts()\n",
    "AC2 = ((lavf_preparacion3['agresor_cantidad'].value_counts()/lavf_preparacion3.shape[0])*100)\n",
    "AC = pd.concat([AC1, AC2], axis=1, keys=['Quantity', 'Percent'])\n",
    "VRE1 = lavf_preparacion3['victima_rango_etario'].value_counts()\n",
    "VRE2 = ((lavf_preparacion3['victima_rango_etario'].value_counts()/lavf_preparacion3.shape[0])*100)\n",
    "VRE = pd.concat([VRE1, VRE2], axis=1, keys=['Quantity', 'Percent'])\n",
    "LD1 = lavf_preparacion3['llamado_derivacion'].value_counts()\n",
    "LD2 = ((lavf_preparacion3['llamado_derivacion'].value_counts()/lavf_preparacion3.shape[0])*100)\n",
    "LD = pd.concat([LD1, LD2], axis=1, keys=['Quantity', 'Percent'])\n",
    "ARV1 = lavf_preparacion3['agresor_relacion_victima'].value_counts()\n",
    "ARV2 = ((lavf_preparacion3['agresor_relacion_victima'].value_counts()/lavf_preparacion3.shape[0])*100)\n",
    "ARV = pd.concat([ARV1, ARV2], axis=1, keys=['Quantity', 'Percent'])\n",
    "AG1 = lavf_preparacion3['agresor_genero'].value_counts()\n",
    "AG2 = ((lavf_preparacion3['agresor_genero'].value_counts()/lavf_preparacion3.shape[0])*100)\n",
    "AG = pd.concat([AG1, AG2], axis=1, keys=['Quantity', 'Percent'])\n",
    "VC1 = lavf_preparacion3['victima_cantidad'].value_counts()\n",
    "VC2 = ((lavf_preparacion3['victima_cantidad'].value_counts()/lavf_preparacion3.shape[0])*100)\n",
    "VC = pd.concat([VC1, VC2], axis=1, keys=['Quantity', 'Percent'])\n",
    "VG1 = lavf_preparacion3['victima_genero'].value_counts()\n",
    "VG2 = ((lavf_preparacion3['victima_genero'].value_counts()/lavf_preparacion3.shape[0])*100)\n",
    "VG = pd.concat([VG1, VG2], axis=1, keys=['Quantity', 'Percent'])\n",
    "VE1 = lavf_preparacion3['victima_edad'].value_counts()\n",
    "VE2 = ((lavf_preparacion3['victima_edad'].value_counts()/lavf_preparacion3.shape[0])*100)\n",
    "VE = pd.concat([VE1, VE2], axis=1, keys=['Quantity', 'Percent'])\n",
    "LVNP1 = lavf_preparacion3['llamante_vinculo_ninios_presentes'].value_counts()\n",
    "LVNP2 = ((lavf_preparacion3['llamante_vinculo_ninios_presentes'].value_counts()/lavf_preparacion3.shape[0])*100)\n",
    "LVNP = pd.concat([LVNP1, LVNP2], axis=1, keys=['Quantity', 'Percent'])\n",
    "LDE1 = lavf_preparacion3['llamante_descripcion'].value_counts()\n",
    "LDE2 = ((lavf_preparacion3['llamante_descripcion'].value_counts()/lavf_preparacion3.shape[0])*100)\n",
    "LDE = pd.concat([LDE1, LDE2], axis=1, keys=['Quantity', 'Percent'])\n",
    "print(\"LLAMANTE GENERO:\")\n",
    "print(LG)\n",
    "print()\n",
    "print(\"VIOLENCIA TIPO:\")\n",
    "print(VT)\n",
    "print()\n",
    "print(\"AGRESOR CANTIDAD:\")\n",
    "print(AC)\n",
    "print()\n",
    "print(\"VICTIMA RANGO ETARIO:\")\n",
    "print(VRE)\n",
    "print()\n",
    "print(\"LLAMADO DERIVACION:\")\n",
    "print(LD)\n",
    "print()\n",
    "print(\"AGRESOR RELACION VICTIMA:\")\n",
    "print(ARV)\n",
    "print()\n",
    "print(\"AGRESOR GENERO:\")\n",
    "print(AG)\n",
    "print()\n",
    "print(\"VICTIMA CANTIDAD:\")\n",
    "print(VC)\n",
    "print()\n",
    "print(\"VICTIMA GENERO:\")\n",
    "print(VG)\n",
    "print()\n",
    "print(\"VICTIMA EDAD:\")\n",
    "print(VE)\n",
    "print()\n",
    "print(\"LLAMANTE VINCULO NIÑOS PRESENTES:\")\n",
    "print(LVNP)\n",
    "print()\n",
    "print(\"LLAMANTE DESCRIPCION:\")\n",
    "print(LDE)\n",
    "print()"
   ]
  },
  {
   "cell_type": "code",
   "execution_count": 51,
   "metadata": {},
   "outputs": [
    {
     "data": {
      "text/plain": [
       "(4256, 18)"
      ]
     },
     "execution_count": 51,
     "metadata": {},
     "output_type": "execute_result"
    }
   ],
   "source": [
    "lavf_preparacion3.shape"
   ]
  },
  {
   "cell_type": "code",
   "execution_count": 52,
   "metadata": {},
   "outputs": [],
   "source": [
    "aux2 = lavf_preparacion3.drop_duplicates()"
   ]
  },
  {
   "cell_type": "code",
   "execution_count": 53,
   "metadata": {},
   "outputs": [
    {
     "data": {
      "text/plain": [
       "(4256, 18)"
      ]
     },
     "execution_count": 53,
     "metadata": {},
     "output_type": "execute_result"
    }
   ],
   "source": [
    "aux2.shape"
   ]
  },
  {
   "cell_type": "code",
   "execution_count": 54,
   "metadata": {},
   "outputs": [
    {
     "data": {
      "text/html": [
       "<div>\n",
       "<style scoped>\n",
       "    .dataframe tbody tr th:only-of-type {\n",
       "        vertical-align: middle;\n",
       "    }\n",
       "\n",
       "    .dataframe tbody tr th {\n",
       "        vertical-align: top;\n",
       "    }\n",
       "\n",
       "    .dataframe thead th {\n",
       "        text-align: right;\n",
       "    }\n",
       "</style>\n",
       "<table border=\"1\" class=\"dataframe\">\n",
       "  <thead>\n",
       "    <tr style=\"text-align: right;\">\n",
       "      <th></th>\n",
       "      <th>llamante_descripcion</th>\n",
       "      <th>llamante_genero</th>\n",
       "      <th>llamante_vinculo_ninios_presentes</th>\n",
       "      <th>violencia_tipo</th>\n",
       "      <th>victima_edad</th>\n",
       "      <th>victima_rango_etario</th>\n",
       "      <th>victima_genero</th>\n",
       "      <th>victima_cantidad</th>\n",
       "      <th>agresor_cantidad</th>\n",
       "      <th>agresor_genero</th>\n",
       "      <th>agresor_relacion_victima</th>\n",
       "      <th>llamado_derivacion</th>\n",
       "      <th>llamado_fecha_hora</th>\n",
       "      <th>año</th>\n",
       "      <th>mes</th>\n",
       "      <th>hora</th>\n",
       "      <th>hora_sola</th>\n",
       "      <th>momento_del_dia</th>\n",
       "    </tr>\n",
       "  </thead>\n",
       "  <tbody>\n",
       "    <tr>\n",
       "      <th>652</th>\n",
       "      <td>Víctima</td>\n",
       "      <td>Femenino</td>\n",
       "      <td>Madre</td>\n",
       "      <td>Física</td>\n",
       "      <td>25</td>\n",
       "      <td>18 a 29 años</td>\n",
       "      <td>Femenino</td>\n",
       "      <td>2</td>\n",
       "      <td>1.0</td>\n",
       "      <td>Masculino</td>\n",
       "      <td>Espos@/compañer@ actual de la víctima</td>\n",
       "      <td>La víctima no aceptó la intervención de Equipo...</td>\n",
       "      <td>2017-01-17 19:07:35</td>\n",
       "      <td>2017</td>\n",
       "      <td>1</td>\n",
       "      <td>19:07:35</td>\n",
       "      <td>19</td>\n",
       "      <td>Noche</td>\n",
       "    </tr>\n",
       "    <tr>\n",
       "      <th>682</th>\n",
       "      <td>Comisaría</td>\n",
       "      <td>Femenino</td>\n",
       "      <td>No hay niñas/os</td>\n",
       "      <td>Física</td>\n",
       "      <td>21</td>\n",
       "      <td>18 a 29 años</td>\n",
       "      <td>Femenino</td>\n",
       "      <td>1</td>\n",
       "      <td>1.0</td>\n",
       "      <td>Masculino</td>\n",
       "      <td>Herman@ de la victima</td>\n",
       "      <td>No había móviles y/o Equipos para realizar la ...</td>\n",
       "      <td>2017-01-18 14:02:26</td>\n",
       "      <td>2017</td>\n",
       "      <td>1</td>\n",
       "      <td>14:02:26</td>\n",
       "      <td>14</td>\n",
       "      <td>Tarde</td>\n",
       "    </tr>\n",
       "    <tr>\n",
       "      <th>737</th>\n",
       "      <td>Comisaría</td>\n",
       "      <td>Masculino</td>\n",
       "      <td>Otro no familiar</td>\n",
       "      <td>Física</td>\n",
       "      <td>38</td>\n",
       "      <td>30 a 39 años</td>\n",
       "      <td>Masculino</td>\n",
       "      <td>6</td>\n",
       "      <td>1.0</td>\n",
       "      <td>Masculino</td>\n",
       "      <td>Ex espos@/ ex pareja de la víctima</td>\n",
       "      <td>Llamante solicitó información y/o orientación</td>\n",
       "      <td>2017-01-19 19:07:07</td>\n",
       "      <td>2017</td>\n",
       "      <td>1</td>\n",
       "      <td>19:07:07</td>\n",
       "      <td>19</td>\n",
       "      <td>Noche</td>\n",
       "    </tr>\n",
       "    <tr>\n",
       "      <th>841</th>\n",
       "      <td>Comisaría</td>\n",
       "      <td>Masculino</td>\n",
       "      <td>No hay niñas/os</td>\n",
       "      <td>Física</td>\n",
       "      <td>25</td>\n",
       "      <td>18 a 29 años</td>\n",
       "      <td>Femenino</td>\n",
       "      <td>1</td>\n",
       "      <td>1.0</td>\n",
       "      <td>Masculino</td>\n",
       "      <td>Espos@/compañer@ actual de la víctima</td>\n",
       "      <td>La víctima no aceptó la intervención de Equipo...</td>\n",
       "      <td>2017-01-23 07:46:48</td>\n",
       "      <td>2017</td>\n",
       "      <td>1</td>\n",
       "      <td>07:46:48</td>\n",
       "      <td>7</td>\n",
       "      <td>Mañana</td>\n",
       "    </tr>\n",
       "    <tr>\n",
       "      <th>851</th>\n",
       "      <td>Familiar de la víctima</td>\n",
       "      <td>Masculino</td>\n",
       "      <td>Padre</td>\n",
       "      <td>Psicológica</td>\n",
       "      <td>13</td>\n",
       "      <td>12 a 17 años</td>\n",
       "      <td>Femenino</td>\n",
       "      <td>1</td>\n",
       "      <td>1.0</td>\n",
       "      <td>Femenino</td>\n",
       "      <td>Herman@ de la victima</td>\n",
       "      <td>No intervino equipo móvil por tratarse de un c...</td>\n",
       "      <td>2017-01-23 10:39:34</td>\n",
       "      <td>2017</td>\n",
       "      <td>1</td>\n",
       "      <td>10:39:34</td>\n",
       "      <td>10</td>\n",
       "      <td>Mañana</td>\n",
       "    </tr>\n",
       "  </tbody>\n",
       "</table>\n",
       "</div>"
      ],
      "text/plain": [
       "       llamante_descripcion llamante_genero llamante_vinculo_ninios_presentes  \\\n",
       "652                 Víctima        Femenino                             Madre   \n",
       "682               Comisaría        Femenino                   No hay niñas/os   \n",
       "737               Comisaría       Masculino                  Otro no familiar   \n",
       "841               Comisaría       Masculino                   No hay niñas/os   \n",
       "851  Familiar de la víctima       Masculino                             Padre   \n",
       "\n",
       "    violencia_tipo  victima_edad victima_rango_etario victima_genero  \\\n",
       "652         Física            25         18 a 29 años       Femenino   \n",
       "682         Física            21         18 a 29 años       Femenino   \n",
       "737         Física            38         30 a 39 años      Masculino   \n",
       "841         Física            25         18 a 29 años       Femenino   \n",
       "851    Psicológica            13         12 a 17 años       Femenino   \n",
       "\n",
       "     victima_cantidad  agresor_cantidad agresor_genero  \\\n",
       "652                 2               1.0      Masculino   \n",
       "682                 1               1.0      Masculino   \n",
       "737                 6               1.0      Masculino   \n",
       "841                 1               1.0      Masculino   \n",
       "851                 1               1.0       Femenino   \n",
       "\n",
       "                  agresor_relacion_victima  \\\n",
       "652  Espos@/compañer@ actual de la víctima   \n",
       "682                  Herman@ de la victima   \n",
       "737     Ex espos@/ ex pareja de la víctima   \n",
       "841  Espos@/compañer@ actual de la víctima   \n",
       "851                  Herman@ de la victima   \n",
       "\n",
       "                                    llamado_derivacion  llamado_fecha_hora  \\\n",
       "652  La víctima no aceptó la intervención de Equipo... 2017-01-17 19:07:35   \n",
       "682  No había móviles y/o Equipos para realizar la ... 2017-01-18 14:02:26   \n",
       "737      Llamante solicitó información y/o orientación 2017-01-19 19:07:07   \n",
       "841  La víctima no aceptó la intervención de Equipo... 2017-01-23 07:46:48   \n",
       "851  No intervino equipo móvil por tratarse de un c... 2017-01-23 10:39:34   \n",
       "\n",
       "      año  mes      hora  hora_sola momento_del_dia  \n",
       "652  2017    1  19:07:35         19           Noche  \n",
       "682  2017    1  14:02:26         14           Tarde  \n",
       "737  2017    1  19:07:07         19           Noche  \n",
       "841  2017    1  07:46:48          7          Mañana  \n",
       "851  2017    1  10:39:34         10          Mañana  "
      ]
     },
     "execution_count": 54,
     "metadata": {},
     "output_type": "execute_result"
    }
   ],
   "source": [
    "lavf_preparacion3.head()"
   ]
  },
  {
   "cell_type": "markdown",
   "metadata": {},
   "source": [
    "# Preparamos el dataset ya limpio y explorado para el proceso de Feature Selection, para ello sera necesario aplicar LabelEncoders a los campo de texto"
   ]
  },
  {
   "cell_type": "code",
   "execution_count": 55,
   "metadata": {},
   "outputs": [
    {
     "data": {
      "text/html": [
       "<div>\n",
       "<style scoped>\n",
       "    .dataframe tbody tr th:only-of-type {\n",
       "        vertical-align: middle;\n",
       "    }\n",
       "\n",
       "    .dataframe tbody tr th {\n",
       "        vertical-align: top;\n",
       "    }\n",
       "\n",
       "    .dataframe thead th {\n",
       "        text-align: right;\n",
       "    }\n",
       "</style>\n",
       "<table border=\"1\" class=\"dataframe\">\n",
       "  <thead>\n",
       "    <tr style=\"text-align: right;\">\n",
       "      <th></th>\n",
       "      <th>llamante_descripcion</th>\n",
       "      <th>llamante_genero</th>\n",
       "      <th>llamante_vinculo_ninios_presentes</th>\n",
       "      <th>violencia_tipo</th>\n",
       "      <th>victima_edad</th>\n",
       "      <th>victima_rango_etario</th>\n",
       "      <th>victima_genero</th>\n",
       "      <th>victima_cantidad</th>\n",
       "      <th>agresor_cantidad</th>\n",
       "      <th>agresor_genero</th>\n",
       "      <th>agresor_relacion_victima</th>\n",
       "      <th>llamado_derivacion</th>\n",
       "      <th>llamado_fecha_hora</th>\n",
       "      <th>año</th>\n",
       "      <th>mes</th>\n",
       "      <th>hora</th>\n",
       "      <th>hora_sola</th>\n",
       "      <th>momento_del_dia</th>\n",
       "    </tr>\n",
       "  </thead>\n",
       "  <tbody>\n",
       "    <tr>\n",
       "      <th>652</th>\n",
       "      <td>9</td>\n",
       "      <td>0</td>\n",
       "      <td>1</td>\n",
       "      <td>0</td>\n",
       "      <td>25</td>\n",
       "      <td>2</td>\n",
       "      <td>0</td>\n",
       "      <td>2</td>\n",
       "      <td>1.0</td>\n",
       "      <td>1</td>\n",
       "      <td>1</td>\n",
       "      <td>2</td>\n",
       "      <td>2017-01-17 19:07:35</td>\n",
       "      <td>2017</td>\n",
       "      <td>1</td>\n",
       "      <td>19:07:35</td>\n",
       "      <td>19</td>\n",
       "      <td>1</td>\n",
       "    </tr>\n",
       "    <tr>\n",
       "      <th>682</th>\n",
       "      <td>1</td>\n",
       "      <td>0</td>\n",
       "      <td>2</td>\n",
       "      <td>0</td>\n",
       "      <td>21</td>\n",
       "      <td>2</td>\n",
       "      <td>0</td>\n",
       "      <td>1</td>\n",
       "      <td>1.0</td>\n",
       "      <td>1</td>\n",
       "      <td>3</td>\n",
       "      <td>4</td>\n",
       "      <td>2017-01-18 14:02:26</td>\n",
       "      <td>2017</td>\n",
       "      <td>1</td>\n",
       "      <td>14:02:26</td>\n",
       "      <td>14</td>\n",
       "      <td>2</td>\n",
       "    </tr>\n",
       "    <tr>\n",
       "      <th>737</th>\n",
       "      <td>1</td>\n",
       "      <td>1</td>\n",
       "      <td>4</td>\n",
       "      <td>0</td>\n",
       "      <td>38</td>\n",
       "      <td>3</td>\n",
       "      <td>1</td>\n",
       "      <td>6</td>\n",
       "      <td>1.0</td>\n",
       "      <td>1</td>\n",
       "      <td>2</td>\n",
       "      <td>3</td>\n",
       "      <td>2017-01-19 19:07:07</td>\n",
       "      <td>2017</td>\n",
       "      <td>1</td>\n",
       "      <td>19:07:07</td>\n",
       "      <td>19</td>\n",
       "      <td>1</td>\n",
       "    </tr>\n",
       "    <tr>\n",
       "      <th>841</th>\n",
       "      <td>1</td>\n",
       "      <td>1</td>\n",
       "      <td>2</td>\n",
       "      <td>0</td>\n",
       "      <td>25</td>\n",
       "      <td>2</td>\n",
       "      <td>0</td>\n",
       "      <td>1</td>\n",
       "      <td>1.0</td>\n",
       "      <td>1</td>\n",
       "      <td>1</td>\n",
       "      <td>2</td>\n",
       "      <td>2017-01-23 07:46:48</td>\n",
       "      <td>2017</td>\n",
       "      <td>1</td>\n",
       "      <td>07:46:48</td>\n",
       "      <td>7</td>\n",
       "      <td>0</td>\n",
       "    </tr>\n",
       "    <tr>\n",
       "      <th>851</th>\n",
       "      <td>3</td>\n",
       "      <td>1</td>\n",
       "      <td>6</td>\n",
       "      <td>2</td>\n",
       "      <td>13</td>\n",
       "      <td>1</td>\n",
       "      <td>0</td>\n",
       "      <td>1</td>\n",
       "      <td>1.0</td>\n",
       "      <td>0</td>\n",
       "      <td>3</td>\n",
       "      <td>5</td>\n",
       "      <td>2017-01-23 10:39:34</td>\n",
       "      <td>2017</td>\n",
       "      <td>1</td>\n",
       "      <td>10:39:34</td>\n",
       "      <td>10</td>\n",
       "      <td>0</td>\n",
       "    </tr>\n",
       "  </tbody>\n",
       "</table>\n",
       "</div>"
      ],
      "text/plain": [
       "     llamante_descripcion  llamante_genero  llamante_vinculo_ninios_presentes  \\\n",
       "652                     9                0                                  1   \n",
       "682                     1                0                                  2   \n",
       "737                     1                1                                  4   \n",
       "841                     1                1                                  2   \n",
       "851                     3                1                                  6   \n",
       "\n",
       "     violencia_tipo  victima_edad  victima_rango_etario  victima_genero  \\\n",
       "652               0            25                     2               0   \n",
       "682               0            21                     2               0   \n",
       "737               0            38                     3               1   \n",
       "841               0            25                     2               0   \n",
       "851               2            13                     1               0   \n",
       "\n",
       "     victima_cantidad  agresor_cantidad  agresor_genero  \\\n",
       "652                 2               1.0               1   \n",
       "682                 1               1.0               1   \n",
       "737                 6               1.0               1   \n",
       "841                 1               1.0               1   \n",
       "851                 1               1.0               0   \n",
       "\n",
       "     agresor_relacion_victima  llamado_derivacion  llamado_fecha_hora   año  \\\n",
       "652                         1                   2 2017-01-17 19:07:35  2017   \n",
       "682                         3                   4 2017-01-18 14:02:26  2017   \n",
       "737                         2                   3 2017-01-19 19:07:07  2017   \n",
       "841                         1                   2 2017-01-23 07:46:48  2017   \n",
       "851                         3                   5 2017-01-23 10:39:34  2017   \n",
       "\n",
       "     mes      hora  hora_sola  momento_del_dia  \n",
       "652    1  19:07:35         19                1  \n",
       "682    1  14:02:26         14                2  \n",
       "737    1  19:07:07         19                1  \n",
       "841    1  07:46:48          7                0  \n",
       "851    1  10:39:34         10                0  "
      ]
     },
     "execution_count": 55,
     "metadata": {},
     "output_type": "execute_result"
    }
   ],
   "source": [
    "from sklearn import preprocessing\n",
    "le = preprocessing.LabelEncoder()\n",
    "lavf_preselection = lavf_preparacion3\n",
    "lavf_preselection['llamante_descripcion'] = le.fit_transform(lavf_preparacion3['llamante_descripcion'])\n",
    "lavf_preselection['llamante_genero'] = le.fit_transform(lavf_preparacion3['llamante_genero'])\n",
    "lavf_preselection['llamante_vinculo_ninios_presentes'] = le.fit_transform(lavf_preparacion3['llamante_vinculo_ninios_presentes'])\n",
    "lavf_preselection['violencia_tipo'] = le.fit_transform(lavf_preparacion3['violencia_tipo'])\n",
    "lavf_preselection['victima_rango_etario'] = le.fit_transform(lavf_preparacion3['victima_rango_etario'])\n",
    "lavf_preselection['victima_genero'] = le.fit_transform(lavf_preparacion3['victima_genero'])\n",
    "lavf_preselection['agresor_genero'] = le.fit_transform(lavf_preparacion3['agresor_genero'])\n",
    "lavf_preselection['agresor_relacion_victima'] = le.fit_transform(lavf_preparacion3['agresor_relacion_victima'])\n",
    "lavf_preselection['momento_del_dia'] = le.fit_transform(lavf_preparacion3['momento_del_dia'])\n",
    "lavf_preselection['llamado_derivacion'] = le.fit_transform(lavf_preparacion3['llamado_derivacion'])\n",
    "lavf_preselection.head()"
   ]
  },
  {
   "cell_type": "code",
   "execution_count": 56,
   "metadata": {},
   "outputs": [
    {
     "data": {
      "text/plain": [
       "(4256, 16)"
      ]
     },
     "execution_count": 56,
     "metadata": {},
     "output_type": "execute_result"
    }
   ],
   "source": [
    "lavf_preselection2 = lavf_preselection.drop(['llamado_fecha_hora','hora'], axis=1)\n",
    "lavf_preselection2.shape"
   ]
  },
  {
   "cell_type": "code",
   "execution_count": 57,
   "metadata": {},
   "outputs": [
    {
     "data": {
      "text/html": [
       "<div>\n",
       "<style scoped>\n",
       "    .dataframe tbody tr th:only-of-type {\n",
       "        vertical-align: middle;\n",
       "    }\n",
       "\n",
       "    .dataframe tbody tr th {\n",
       "        vertical-align: top;\n",
       "    }\n",
       "\n",
       "    .dataframe thead th {\n",
       "        text-align: right;\n",
       "    }\n",
       "</style>\n",
       "<table border=\"1\" class=\"dataframe\">\n",
       "  <thead>\n",
       "    <tr style=\"text-align: right;\">\n",
       "      <th></th>\n",
       "      <th>llamante_descripcion</th>\n",
       "      <th>llamante_genero</th>\n",
       "      <th>llamante_vinculo_ninios_presentes</th>\n",
       "      <th>violencia_tipo</th>\n",
       "      <th>victima_edad</th>\n",
       "      <th>victima_rango_etario</th>\n",
       "      <th>victima_genero</th>\n",
       "      <th>victima_cantidad</th>\n",
       "      <th>agresor_cantidad</th>\n",
       "      <th>agresor_genero</th>\n",
       "      <th>agresor_relacion_victima</th>\n",
       "      <th>llamado_derivacion</th>\n",
       "      <th>año</th>\n",
       "      <th>mes</th>\n",
       "      <th>hora_sola</th>\n",
       "      <th>momento_del_dia</th>\n",
       "    </tr>\n",
       "  </thead>\n",
       "  <tbody>\n",
       "    <tr>\n",
       "      <th>652</th>\n",
       "      <td>9</td>\n",
       "      <td>0</td>\n",
       "      <td>1</td>\n",
       "      <td>0</td>\n",
       "      <td>25</td>\n",
       "      <td>2</td>\n",
       "      <td>0</td>\n",
       "      <td>2</td>\n",
       "      <td>1.0</td>\n",
       "      <td>1</td>\n",
       "      <td>1</td>\n",
       "      <td>2</td>\n",
       "      <td>2017</td>\n",
       "      <td>1</td>\n",
       "      <td>19</td>\n",
       "      <td>1</td>\n",
       "    </tr>\n",
       "    <tr>\n",
       "      <th>682</th>\n",
       "      <td>1</td>\n",
       "      <td>0</td>\n",
       "      <td>2</td>\n",
       "      <td>0</td>\n",
       "      <td>21</td>\n",
       "      <td>2</td>\n",
       "      <td>0</td>\n",
       "      <td>1</td>\n",
       "      <td>1.0</td>\n",
       "      <td>1</td>\n",
       "      <td>3</td>\n",
       "      <td>4</td>\n",
       "      <td>2017</td>\n",
       "      <td>1</td>\n",
       "      <td>14</td>\n",
       "      <td>2</td>\n",
       "    </tr>\n",
       "    <tr>\n",
       "      <th>737</th>\n",
       "      <td>1</td>\n",
       "      <td>1</td>\n",
       "      <td>4</td>\n",
       "      <td>0</td>\n",
       "      <td>38</td>\n",
       "      <td>3</td>\n",
       "      <td>1</td>\n",
       "      <td>6</td>\n",
       "      <td>1.0</td>\n",
       "      <td>1</td>\n",
       "      <td>2</td>\n",
       "      <td>3</td>\n",
       "      <td>2017</td>\n",
       "      <td>1</td>\n",
       "      <td>19</td>\n",
       "      <td>1</td>\n",
       "    </tr>\n",
       "    <tr>\n",
       "      <th>841</th>\n",
       "      <td>1</td>\n",
       "      <td>1</td>\n",
       "      <td>2</td>\n",
       "      <td>0</td>\n",
       "      <td>25</td>\n",
       "      <td>2</td>\n",
       "      <td>0</td>\n",
       "      <td>1</td>\n",
       "      <td>1.0</td>\n",
       "      <td>1</td>\n",
       "      <td>1</td>\n",
       "      <td>2</td>\n",
       "      <td>2017</td>\n",
       "      <td>1</td>\n",
       "      <td>7</td>\n",
       "      <td>0</td>\n",
       "    </tr>\n",
       "    <tr>\n",
       "      <th>851</th>\n",
       "      <td>3</td>\n",
       "      <td>1</td>\n",
       "      <td>6</td>\n",
       "      <td>2</td>\n",
       "      <td>13</td>\n",
       "      <td>1</td>\n",
       "      <td>0</td>\n",
       "      <td>1</td>\n",
       "      <td>1.0</td>\n",
       "      <td>0</td>\n",
       "      <td>3</td>\n",
       "      <td>5</td>\n",
       "      <td>2017</td>\n",
       "      <td>1</td>\n",
       "      <td>10</td>\n",
       "      <td>0</td>\n",
       "    </tr>\n",
       "  </tbody>\n",
       "</table>\n",
       "</div>"
      ],
      "text/plain": [
       "     llamante_descripcion  llamante_genero  llamante_vinculo_ninios_presentes  \\\n",
       "652                     9                0                                  1   \n",
       "682                     1                0                                  2   \n",
       "737                     1                1                                  4   \n",
       "841                     1                1                                  2   \n",
       "851                     3                1                                  6   \n",
       "\n",
       "     violencia_tipo  victima_edad  victima_rango_etario  victima_genero  \\\n",
       "652               0            25                     2               0   \n",
       "682               0            21                     2               0   \n",
       "737               0            38                     3               1   \n",
       "841               0            25                     2               0   \n",
       "851               2            13                     1               0   \n",
       "\n",
       "     victima_cantidad  agresor_cantidad  agresor_genero  \\\n",
       "652                 2               1.0               1   \n",
       "682                 1               1.0               1   \n",
       "737                 6               1.0               1   \n",
       "841                 1               1.0               1   \n",
       "851                 1               1.0               0   \n",
       "\n",
       "     agresor_relacion_victima  llamado_derivacion   año  mes  hora_sola  \\\n",
       "652                         1                   2  2017    1         19   \n",
       "682                         3                   4  2017    1         14   \n",
       "737                         2                   3  2017    1         19   \n",
       "841                         1                   2  2017    1          7   \n",
       "851                         3                   5  2017    1         10   \n",
       "\n",
       "     momento_del_dia  \n",
       "652                1  \n",
       "682                2  \n",
       "737                1  \n",
       "841                0  \n",
       "851                0  "
      ]
     },
     "execution_count": 57,
     "metadata": {},
     "output_type": "execute_result"
    }
   ],
   "source": [
    "lavf_preselection2.head()"
   ]
  },
  {
   "cell_type": "markdown",
   "metadata": {},
   "source": [
    "# Aplicamos los distintos metodos de Feature Selection vistos en clase para un modelo que tiene por objetivo predecir el \"llamado_derivacion\""
   ]
  },
  {
   "cell_type": "code",
   "execution_count": 58,
   "metadata": {},
   "outputs": [],
   "source": [
    "lavf_deriv = lavf_preselection2"
   ]
  },
  {
   "cell_type": "code",
   "execution_count": 59,
   "metadata": {},
   "outputs": [],
   "source": [
    "x = lavf_deriv.drop(['llamado_derivacion'], axis=1)\n",
    "y = lavf_deriv.iloc[:,11]"
   ]
  },
  {
   "cell_type": "code",
   "execution_count": 60,
   "metadata": {},
   "outputs": [
    {
     "data": {
      "text/plain": [
       "StandardScaler(copy=True, with_mean=True, with_std=True)"
      ]
     },
     "execution_count": 60,
     "metadata": {},
     "output_type": "execute_result"
    }
   ],
   "source": [
    "from sklearn.model_selection import train_test_split\n",
    "xtrain, xtest, ytrain, ytest = train_test_split(x, y, test_size=0.3, random_state=4)\n",
    "scaler = preprocessing.StandardScaler().fit(xtrain)\n",
    "scaler"
   ]
  },
  {
   "cell_type": "code",
   "execution_count": 61,
   "metadata": {},
   "outputs": [
    {
     "data": {
      "text/plain": [
       "(2979, 15)"
      ]
     },
     "execution_count": 61,
     "metadata": {},
     "output_type": "execute_result"
    }
   ],
   "source": [
    "xtrain_scal = scaler.transform(xtrain)\n",
    "xtest_scal = scaler.transform(xtest)\n",
    "xtrain_scal.shape"
   ]
  },
  {
   "cell_type": "markdown",
   "metadata": {},
   "source": [
    "# Threshold"
   ]
  },
  {
   "cell_type": "code",
   "execution_count": 62,
   "metadata": {},
   "outputs": [
    {
     "name": "stdout",
     "output_type": "stream",
     "text": [
      "Cantidad de Feautures 7\n"
     ]
    }
   ],
   "source": [
    "import numpy as np\n",
    "thresh = 0.5\n",
    "xtrain_scal_red_var = xtrain.iloc[:,(np.std(xtrain)>np.quantile(np.std(xtrain), thresh)).values]\n",
    "xtest_scal_red_var = xtest.iloc[:,(np.std(xtrain)>np.quantile(np.std(xtrain), thresh)).values]\n",
    "print(\"Cantidad de Feautures \" + str(np.shape(xtrain_scal_red_var)[1]))"
   ]
  },
  {
   "cell_type": "code",
   "execution_count": 63,
   "metadata": {},
   "outputs": [
    {
     "data": {
      "text/plain": [
       "Index(['llamante_descripcion', 'llamante_vinculo_ninios_presentes',\n",
       "       'victima_edad', 'victima_rango_etario', 'agresor_relacion_victima',\n",
       "       'mes', 'hora_sola'],\n",
       "      dtype='object')"
      ]
     },
     "execution_count": 63,
     "metadata": {},
     "output_type": "execute_result"
    }
   ],
   "source": [
    "x_threshold = x.iloc[:,(np.std(xtrain)>np.quantile(np.std(xtrain), thresh)).values]\n",
    "x_threshold.columns"
   ]
  },
  {
   "cell_type": "markdown",
   "metadata": {},
   "source": [
    "# Lasso"
   ]
  },
  {
   "cell_type": "code",
   "execution_count": 64,
   "metadata": {},
   "outputs": [
    {
     "data": {
      "text/plain": [
       "Lasso(alpha=0.01, copy_X=True, fit_intercept=True, max_iter=1000,\n",
       "      normalize=False, positive=False, precompute=False, random_state=None,\n",
       "      selection='cyclic', tol=0.0001, warm_start=False)"
      ]
     },
     "execution_count": 64,
     "metadata": {},
     "output_type": "execute_result"
    }
   ],
   "source": [
    "from sklearn.linear_model import LassoCV, LassoLarsCV, LassoLarsIC\n",
    "from sklearn.linear_model import Lasso\n",
    "from sklearn.linear_model import lasso_path\n",
    "lasso_featsel = Lasso(alpha = 0.01)\n",
    "lasso_featsel.fit(xtrain_scal,ytrain)"
   ]
  },
  {
   "cell_type": "code",
   "execution_count": 65,
   "metadata": {},
   "outputs": [
    {
     "name": "stdout",
     "output_type": "stream",
     "text": [
      "Cantidad de Features 9\n"
     ]
    }
   ],
   "source": [
    "Features = int(np.count_nonzero(lasso_featsel.coef_))\n",
    "print(\"Cantidad de Features \"+ str(Features))"
   ]
  },
  {
   "cell_type": "code",
   "execution_count": 66,
   "metadata": {},
   "outputs": [
    {
     "data": {
      "text/plain": [
       "(array([ 0,  2,  3,  5,  6,  9, 10, 11, 13], dtype=int64),)"
      ]
     },
     "execution_count": 66,
     "metadata": {},
     "output_type": "execute_result"
    }
   ],
   "source": [
    "lasso_cols = lasso_featsel.coef_ != 0\n",
    "np.where(lasso_cols)"
   ]
  },
  {
   "cell_type": "code",
   "execution_count": 67,
   "metadata": {},
   "outputs": [
    {
     "data": {
      "text/plain": [
       "Index(['llamante_descripcion', 'llamante_vinculo_ninios_presentes',\n",
       "       'violencia_tipo', 'victima_rango_etario', 'victima_genero',\n",
       "       'agresor_genero', 'agresor_relacion_victima', 'año', 'hora_sola'],\n",
       "      dtype='object')"
      ]
     },
     "execution_count": 67,
     "metadata": {},
     "output_type": "execute_result"
    }
   ],
   "source": [
    "x_lasso = x.iloc[:,[0,2,3,5,6,9,10,11,13]]\n",
    "x_lasso.columns"
   ]
  },
  {
   "cell_type": "markdown",
   "metadata": {},
   "source": [
    "# RFE"
   ]
  },
  {
   "cell_type": "code",
   "execution_count": 68,
   "metadata": {},
   "outputs": [
    {
     "data": {
      "text/plain": [
       "RFECV(cv=5,\n",
       "      estimator=SVC(C=50, cache_size=200, class_weight=None, coef0=0.0,\n",
       "                    decision_function_shape='ovr', degree=3,\n",
       "                    gamma='auto_deprecated', kernel='linear', max_iter=-1,\n",
       "                    probability=False, random_state=None, shrinking=True,\n",
       "                    tol=0.001, verbose=False),\n",
       "      min_features_to_select=1, n_jobs=None, scoring='accuracy', step=1,\n",
       "      verbose=0)"
      ]
     },
     "execution_count": 68,
     "metadata": {},
     "output_type": "execute_result"
    }
   ],
   "source": [
    "from sklearn.feature_selection import RFECV\n",
    "from sklearn.svm import SVC\n",
    "from sklearn import svm\n",
    "rfe = svm.SVC(C=50, kernel=\"linear\")\n",
    "rfecv = RFECV(estimator=rfe, step=1, cv=5, scoring='accuracy')\n",
    "rfecv.fit(xtrain_scal, ytrain)"
   ]
  },
  {
   "cell_type": "code",
   "execution_count": 69,
   "metadata": {},
   "outputs": [
    {
     "name": "stdout",
     "output_type": "stream",
     "text": [
      "Cantidad de Features 14\n"
     ]
    }
   ],
   "source": [
    "print(\"Cantidad de Features \" + str(rfecv.n_features_))"
   ]
  },
  {
   "cell_type": "code",
   "execution_count": 70,
   "metadata": {},
   "outputs": [
    {
     "data": {
      "text/plain": [
       "Index(['llamante_descripcion', 'llamante_vinculo_ninios_presentes',\n",
       "       'violencia_tipo', 'victima_edad', 'victima_rango_etario',\n",
       "       'victima_genero', 'victima_cantidad', 'agresor_cantidad',\n",
       "       'agresor_genero', 'agresor_relacion_victima', 'año', 'mes', 'hora_sola',\n",
       "       'momento_del_dia'],\n",
       "      dtype='object')"
      ]
     },
     "execution_count": 70,
     "metadata": {},
     "output_type": "execute_result"
    }
   ],
   "source": [
    "x_rfe = x.iloc[:,rfecv.support_]\n",
    "x_rfe.columns"
   ]
  },
  {
   "cell_type": "markdown",
   "metadata": {},
   "source": [
    "# Comparacion de las Features sugeridas por cada Metodo"
   ]
  },
  {
   "cell_type": "code",
   "execution_count": 71,
   "metadata": {},
   "outputs": [
    {
     "name": "stdout",
     "output_type": "stream",
     "text": [
      "Features de THRESHOLD [7]\n",
      "Index(['llamante_descripcion', 'llamante_vinculo_ninios_presentes',\n",
      "       'victima_edad', 'victima_rango_etario', 'agresor_relacion_victima',\n",
      "       'mes', 'hora_sola'],\n",
      "      dtype='object')\n",
      "\n",
      "Features de LASSO [9]\n",
      "Index(['llamante_descripcion', 'llamante_vinculo_ninios_presentes',\n",
      "       'violencia_tipo', 'victima_rango_etario', 'victima_genero',\n",
      "       'agresor_genero', 'agresor_relacion_victima', 'año', 'hora_sola'],\n",
      "      dtype='object')\n",
      "\n",
      "Features de RFE [14]\n",
      "Index(['llamante_descripcion', 'llamante_vinculo_ninios_presentes',\n",
      "       'violencia_tipo', 'victima_edad', 'victima_rango_etario',\n",
      "       'victima_genero', 'victima_cantidad', 'agresor_cantidad',\n",
      "       'agresor_genero', 'agresor_relacion_victima', 'año', 'mes', 'hora_sola',\n",
      "       'momento_del_dia'],\n",
      "      dtype='object')\n"
     ]
    }
   ],
   "source": [
    "print(\"Features de THRESHOLD [7]\")\n",
    "print(x_threshold.columns)\n",
    "print()\n",
    "print(\"Features de LASSO [9]\")\n",
    "print(x_lasso.columns)\n",
    "print()\n",
    "print(\"Features de RFE [14]\")\n",
    "print(x_rfe.columns)"
   ]
  },
  {
   "cell_type": "markdown",
   "metadata": {},
   "source": [
    "# Probamos los distintos modelos de clasificadores con y sin metodos de Feature Selection"
   ]
  },
  {
   "cell_type": "markdown",
   "metadata": {},
   "source": [
    "# -SVM-"
   ]
  },
  {
   "cell_type": "code",
   "execution_count": 72,
   "metadata": {},
   "outputs": [],
   "source": [
    "from sklearn.metrics import accuracy_score\n",
    "from sklearn.model_selection import cross_val_score\n",
    "from sklearn.metrics import roc_curve, auc\n",
    "from sklearn import metrics\n",
    "from sklearn.model_selection import GridSearchCV\n",
    "from sklearn.metrics import confusion_matrix\n",
    "from sklearn.linear_model import LogisticRegression\n",
    "from sklearn.neighbors import KNeighborsClassifier"
   ]
  },
  {
   "cell_type": "code",
   "execution_count": 73,
   "metadata": {},
   "outputs": [],
   "source": [
    "parameters = {'C':[1,10,25]}\n",
    "svc = svm.SVC(kernel='linear',probability = True)\n",
    "svm_cv = GridSearchCV(svc, param_grid = parameters, refit = True, cv = 5)"
   ]
  },
  {
   "cell_type": "markdown",
   "metadata": {},
   "source": [
    "# Sin Feature Selection"
   ]
  },
  {
   "cell_type": "code",
   "execution_count": 74,
   "metadata": {},
   "outputs": [
    {
     "data": {
      "text/plain": [
       "GridSearchCV(cv=5, error_score='raise-deprecating',\n",
       "             estimator=SVC(C=1.0, cache_size=200, class_weight=None, coef0=0.0,\n",
       "                           decision_function_shape='ovr', degree=3,\n",
       "                           gamma='auto_deprecated', kernel='linear',\n",
       "                           max_iter=-1, probability=True, random_state=None,\n",
       "                           shrinking=True, tol=0.001, verbose=False),\n",
       "             iid='warn', n_jobs=None, param_grid={'C': [1, 10, 25]},\n",
       "             pre_dispatch='2*n_jobs', refit=True, return_train_score=False,\n",
       "             scoring=None, verbose=0)"
      ]
     },
     "execution_count": 74,
     "metadata": {},
     "output_type": "execute_result"
    }
   ],
   "source": [
    "svm_cv.fit(xtrain_scal,ytrain.ravel())"
   ]
  },
  {
   "cell_type": "code",
   "execution_count": 75,
   "metadata": {},
   "outputs": [
    {
     "name": "stdout",
     "output_type": "stream",
     "text": [
      "Los mejores parametros son:  {'C': 1} 0.45585767035918096\n"
     ]
    }
   ],
   "source": [
    "print(\"Los mejores parametros son: \",svm_cv.best_params_, svm_cv.best_score_)"
   ]
  },
  {
   "cell_type": "code",
   "execution_count": 76,
   "metadata": {},
   "outputs": [
    {
     "name": "stdout",
     "output_type": "stream",
     "text": [
      "El Accuracy Train sin Feature Selection es 0.46357838200738505\n"
     ]
    }
   ],
   "source": [
    "ypred_svm_train = svm_cv.predict(xtrain_scal) \n",
    "svm_score_train = accuracy_score(ytrain,ypred_svm_train)\n",
    "print(\"El Accuracy Train sin Feature Selection es \" + str(svm_score_train))"
   ]
  },
  {
   "cell_type": "code",
   "execution_count": 77,
   "metadata": {},
   "outputs": [
    {
     "name": "stdout",
     "output_type": "stream",
     "text": [
      "El Accuracy Test sin Feature Selection es 0.4487079091620987\n"
     ]
    }
   ],
   "source": [
    "ypred_svm_test = svm_cv.predict(xtest_scal) \n",
    "svm_score_test = accuracy_score(ytest,ypred_svm_test)\n",
    "print(\"El Accuracy Test sin Feature Selection es \" + str(svm_score_test))"
   ]
  },
  {
   "cell_type": "code",
   "execution_count": 86,
   "metadata": {},
   "outputs": [
    {
     "data": {
      "image/png": "[encoded data removed]",
      "text/plain": [
       "<Figure size 432x288 with 2 Axes>"
      ]
     },
     "metadata": {
      "needs_background": "light"
     },
     "output_type": "display_data"
    }
   ],
   "source": [
    "cm_svm = confusion_matrix(ytest, ypred_svm_test)\n",
    "plt.figure(figsize = (6,4))\n",
    "sns.heatmap(cm_svm, annot=True, fmt='g')\n",
    "plt.title('Classification Confusion matrix sin FS')\n",
    "plt.show()"
   ]
  },
  {
   "cell_type": "markdown",
   "metadata": {},
   "source": [
    "# Threshold"
   ]
  },
  {
   "cell_type": "code",
   "execution_count": null,
   "metadata": {},
   "outputs": [],
   "source": []
  },
  {
   "cell_type": "markdown",
   "metadata": {},
   "source": [
    "# Lasso"
   ]
  },
  {
   "cell_type": "code",
   "execution_count": 87,
   "metadata": {},
   "outputs": [
    {
     "data": {
      "text/plain": [
       "(2979, 9)"
      ]
     },
     "execution_count": 87,
     "metadata": {},
     "output_type": "execute_result"
    }
   ],
   "source": [
    "xtrain_scal_lasso = xtrain_scal[:, lasso_cols]\n",
    "np.shape(xtrain_scal_lasso)"
   ]
  },
  {
   "cell_type": "code",
   "execution_count": 88,
   "metadata": {},
   "outputs": [
    {
     "data": {
      "text/plain": [
       "(1277, 9)"
      ]
     },
     "execution_count": 88,
     "metadata": {},
     "output_type": "execute_result"
    }
   ],
   "source": [
    "xtest_scal_lasso = xtest_scal[:, lasso_cols]\n",
    "np.shape(xtest_scal_lasso)"
   ]
  },
  {
   "cell_type": "code",
   "execution_count": 89,
   "metadata": {},
   "outputs": [
    {
     "data": {
      "text/plain": [
       "GridSearchCV(cv=5, error_score='raise-deprecating',\n",
       "             estimator=SVC(C=1.0, cache_size=200, class_weight=None, coef0=0.0,\n",
       "                           decision_function_shape='ovr', degree=3,\n",
       "                           gamma='auto_deprecated', kernel='linear',\n",
       "                           max_iter=-1, probability=True, random_state=None,\n",
       "                           shrinking=True, tol=0.001, verbose=False),\n",
       "             iid='warn', n_jobs=None, param_grid={'C': [1, 10, 25]},\n",
       "             pre_dispatch='2*n_jobs', refit=True, return_train_score=False,\n",
       "             scoring=None, verbose=0)"
      ]
     },
     "execution_count": 89,
     "metadata": {},
     "output_type": "execute_result"
    }
   ],
   "source": [
    "svm_cv.fit(xtrain_scal_lasso,ytrain.ravel())"
   ]
  },
  {
   "cell_type": "code",
   "execution_count": 90,
   "metadata": {},
   "outputs": [
    {
     "name": "stdout",
     "output_type": "stream",
     "text": [
      "Los mejores parametros son:  {'C': 1} 0.45652903658945954\n"
     ]
    }
   ],
   "source": [
    "print(\"Los mejores parametros son: \",svm_cv.best_params_, svm_cv.best_score_)"
   ]
  },
  {
   "cell_type": "code",
   "execution_count": 91,
   "metadata": {},
   "outputs": [
    {
     "name": "stdout",
     "output_type": "stream",
     "text": [
      "El Accuracy Train con Lasso es 0.4561933534743202\n"
     ]
    }
   ],
   "source": [
    "ypred_svm_train_l = svm_cv.predict(xtrain_scal_lasso) \n",
    "svm_score_train_l = accuracy_score(ytrain,ypred_svm_train_l)\n",
    "print(\"El Accuracy Train con Lasso es \" + str(svm_score_train_l))"
   ]
  },
  {
   "cell_type": "code",
   "execution_count": 92,
   "metadata": {},
   "outputs": [
    {
     "name": "stdout",
     "output_type": "stream",
     "text": [
      "El Accuracy Test con Lasso es 0.4408770555990603\n"
     ]
    }
   ],
   "source": [
    "ypred_svm_test_l = svm_cv.predict(xtest_scal_lasso) \n",
    "svm_score_test_l = accuracy_score(ytest,ypred_svm_test_l)\n",
    "print(\"El Accuracy Test con Lasso es \" + str(svm_score_test_l))"
   ]
  },
  {
   "cell_type": "code",
   "execution_count": 93,
   "metadata": {},
   "outputs": [
    {
     "data": {
      "image/png": "[encoded data removed]",
      "text/plain": [
       "<Figure size 432x288 with 2 Axes>"
      ]
     },
     "metadata": {
      "needs_background": "light"
     },
     "output_type": "display_data"
    }
   ],
   "source": [
    "cm_svm_l = confusion_matrix(ytest, ypred_svm_test_l)\n",
    "plt.figure(figsize = (6,4))\n",
    "sns.heatmap(cm_svm_l, annot=True, fmt='g')\n",
    "plt.title('Classification Confusion matrix con Lasso')\n",
    "plt.show()"
   ]
  },
  {
   "cell_type": "markdown",
   "metadata": {},
   "source": [
    "# RFE"
   ]
  },
  {
   "cell_type": "code",
   "execution_count": null,
   "metadata": {},
   "outputs": [],
   "source": []
  },
  {
   "cell_type": "markdown",
   "metadata": {},
   "source": [
    "# -KNN-"
   ]
  },
  {
   "cell_type": "code",
   "execution_count": null,
   "metadata": {},
   "outputs": [],
   "source": []
  },
  {
   "cell_type": "markdown",
   "metadata": {},
   "source": [
    "# Sin Feature Selection"
   ]
  },
  {
   "cell_type": "code",
   "execution_count": null,
   "metadata": {},
   "outputs": [],
   "source": []
  },
  {
   "cell_type": "markdown",
   "metadata": {},
   "source": [
    "# Threshold"
   ]
  },
  {
   "cell_type": "code",
   "execution_count": null,
   "metadata": {},
   "outputs": [],
   "source": []
  },
  {
   "cell_type": "markdown",
   "metadata": {},
   "source": [
    "# Lasso"
   ]
  },
  {
   "cell_type": "code",
   "execution_count": null,
   "metadata": {},
   "outputs": [],
   "source": []
  },
  {
   "cell_type": "markdown",
   "metadata": {},
   "source": [
    "# RFE"
   ]
  },
  {
   "cell_type": "code",
   "execution_count": null,
   "metadata": {},
   "outputs": [],
   "source": []
  },
  {
   "cell_type": "markdown",
   "metadata": {},
   "source": [
    "# -Logistic Regression-"
   ]
  },
  {
   "cell_type": "code",
   "execution_count": null,
   "metadata": {},
   "outputs": [],
   "source": []
  },
  {
   "cell_type": "markdown",
   "metadata": {},
   "source": [
    "# Sin Feature Selection"
   ]
  },
  {
   "cell_type": "code",
   "execution_count": null,
   "metadata": {},
   "outputs": [],
   "source": []
  },
  {
   "cell_type": "markdown",
   "metadata": {},
   "source": [
    "# Threshold"
   ]
  },
  {
   "cell_type": "code",
   "execution_count": null,
   "metadata": {},
   "outputs": [],
   "source": []
  },
  {
   "cell_type": "markdown",
   "metadata": {},
   "source": [
    "# Lasso"
   ]
  },
  {
   "cell_type": "code",
   "execution_count": null,
   "metadata": {},
   "outputs": [],
   "source": []
  },
  {
   "cell_type": "markdown",
   "metadata": {},
   "source": [
    "# RFE"
   ]
  },
  {
   "cell_type": "code",
   "execution_count": null,
   "metadata": {},
   "outputs": [],
   "source": []
  },
  {
   "cell_type": "markdown",
   "metadata": {},
   "source": [
    "# --Comparacion entre metodos--"
   ]
  },
  {
   "cell_type": "code",
   "execution_count": null,
   "metadata": {},
   "outputs": [],
   "source": []
  }
 ],
 "metadata": {
  "kernelspec": {
   "display_name": "Python 3",
   "language": "python",
   "name": "python3"
  },
  "language_info": {
   "codemirror_mode": {
    "name": "ipython",
    "version": 3
   },
   "file_extension": ".py",
   "mimetype": "text/x-python",
   "name": "python",
   "nbconvert_exporter": "python",
   "pygments_lexer": "ipython3",
   "version": "3.7.3"
  }
 },
 "nbformat": 4,
 "nbformat_minor": 2
}
